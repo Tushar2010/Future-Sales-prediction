{
 "cells": [
  {
   "cell_type": "code",
   "execution_count": 1,
   "id": "f56978b8",
   "metadata": {
    "_cell_guid": "b1076dfc-b9ad-4769-8c92-a6c4dae69d19",
    "_uuid": "8f2839f25d086af736a60e9eeb907d3b93b6e0e5",
    "execution": {
     "iopub.execute_input": "2022-05-04T09:32:22.062514Z",
     "iopub.status.busy": "2022-05-04T09:32:22.059173Z",
     "iopub.status.idle": "2022-05-04T09:32:28.082286Z",
     "shell.execute_reply": "2022-05-04T09:32:28.081228Z",
     "shell.execute_reply.started": "2022-05-04T09:27:59.680030Z"
    },
    "papermill": {
     "duration": 6.083438,
     "end_time": "2022-05-04T09:32:28.082465",
     "exception": false,
     "start_time": "2022-05-04T09:32:21.999027",
     "status": "completed"
    },
    "tags": []
   },
   "outputs": [],
   "source": [
    "import numpy as np # linear algebra\n",
    "import pandas as pd # data processing, CSV file I/O (e.g. pd.read_csv)\n",
    "\n",
    "import seaborn as sns\n",
    "import matplotlib.pyplot as plt\n",
    "from matplotlib.pyplot import figure\n",
    "%matplotlib inline \n",
    "\n",
    "import tensorflow as tf\n",
    "from sklearn import preprocessing\n",
    "\n",
    "import random\n",
    "tf.random.set_seed(53)\n",
    "random.seed(53)"
   ]
  },
  {
   "cell_type": "code",
   "execution_count": 2,
   "id": "7bcdc924",
   "metadata": {
    "execution": {
     "iopub.execute_input": "2022-05-04T09:32:28.180495Z",
     "iopub.status.busy": "2022-05-04T09:32:28.179730Z",
     "iopub.status.idle": "2022-05-04T09:32:30.980877Z",
     "shell.execute_reply": "2022-05-04T09:32:30.980204Z",
     "shell.execute_reply.started": "2022-05-04T09:28:02.457367Z"
    },
    "papermill": {
     "duration": 2.85131,
     "end_time": "2022-05-04T09:32:30.981030",
     "exception": false,
     "start_time": "2022-05-04T09:32:28.129720",
     "status": "completed"
    },
    "tags": []
   },
   "outputs": [],
   "source": [
    "BASE=\"../input/competitive-data-science-predict-future-sales/\"\n",
    "item_cat = pd.read_csv(BASE+\"item_categories.csv\")\n",
    "item = pd.read_csv(BASE+\"items.csv\")\n",
    "sales_train = pd.read_csv(BASE+\"sales_train.csv\")\n",
    "shops = pd.read_csv(BASE+\"shops.csv\")\n",
    "sales_test = pd.read_csv(BASE+\"test.csv\")"
   ]
  },
  {
   "cell_type": "code",
   "execution_count": 3,
   "id": "923f776c",
   "metadata": {
    "execution": {
     "iopub.execute_input": "2022-05-04T09:32:31.086244Z",
     "iopub.status.busy": "2022-05-04T09:32:31.084694Z",
     "iopub.status.idle": "2022-05-04T09:32:31.086939Z",
     "shell.execute_reply": "2022-05-04T09:32:31.087429Z",
     "shell.execute_reply.started": "2022-05-04T09:28:07.397704Z"
    },
    "papermill": {
     "duration": 0.058819,
     "end_time": "2022-05-04T09:32:31.087598",
     "exception": false,
     "start_time": "2022-05-04T09:32:31.028779",
     "status": "completed"
    },
    "tags": []
   },
   "outputs": [],
   "source": [
    "def basic_eda(df):\n",
    "    print(\"----------TOP 5 RECORDS--------\")\n",
    "    print(df.head(5))\n",
    "    print(\"----------INFO-----------------\")\n",
    "    print(df.info())\n",
    "    print(\"----------Describe-------------\")\n",
    "    print(df.describe())\n",
    "    print(\"----------Columns--------------\")\n",
    "    print(df.columns)\n",
    "    print(\"----------Data Types-----------\")\n",
    "    print(df.dtypes)\n",
    "    print(\"-------Missing Values----------\")\n",
    "    print(df.isnull().sum())\n",
    "    print(\"-------NULL values-------------\")\n",
    "    print(df.isna().sum())\n",
    "    print(\"-----Shape Of Data-------------\")\n",
    "    print(df.shape)"
   ]
  },
  {
   "cell_type": "code",
   "execution_count": 4,
   "id": "53f0c4b0",
   "metadata": {
    "execution": {
     "iopub.execute_input": "2022-05-04T09:32:31.188711Z",
     "iopub.status.busy": "2022-05-04T09:32:31.188045Z",
     "iopub.status.idle": "2022-05-04T09:32:32.304430Z",
     "shell.execute_reply": "2022-05-04T09:32:32.303554Z",
     "shell.execute_reply.started": "2022-05-04T09:28:40.836555Z"
    },
    "papermill": {
     "duration": 1.17032,
     "end_time": "2022-05-04T09:32:32.304642",
     "exception": false,
     "start_time": "2022-05-04T09:32:31.134322",
     "status": "completed"
    },
    "tags": []
   },
   "outputs": [
    {
     "name": "stdout",
     "output_type": "stream",
     "text": [
      "=============================Sales Data=============================\n",
      "----------TOP 5 RECORDS--------\n",
      "         date  date_block_num  shop_id  item_id  item_price  item_cnt_day\n",
      "0  02.01.2013               0       59    22154      999.00           1.0\n",
      "1  03.01.2013               0       25     2552      899.00           1.0\n",
      "2  05.01.2013               0       25     2552      899.00          -1.0\n",
      "3  06.01.2013               0       25     2554     1709.05           1.0\n",
      "4  15.01.2013               0       25     2555     1099.00           1.0\n",
      "----------INFO-----------------\n",
      "<class 'pandas.core.frame.DataFrame'>\n",
      "RangeIndex: 2935849 entries, 0 to 2935848\n",
      "Data columns (total 6 columns):\n",
      " #   Column          Dtype  \n",
      "---  ------          -----  \n",
      " 0   date            object \n",
      " 1   date_block_num  int64  \n",
      " 2   shop_id         int64  \n",
      " 3   item_id         int64  \n",
      " 4   item_price      float64\n",
      " 5   item_cnt_day    float64\n",
      "dtypes: float64(2), int64(3), object(1)\n",
      "memory usage: 134.4+ MB\n",
      "None\n",
      "----------Describe-------------\n",
      "       date_block_num       shop_id       item_id    item_price  item_cnt_day\n",
      "count    2.935849e+06  2.935849e+06  2.935849e+06  2.935849e+06  2.935849e+06\n",
      "mean     1.456991e+01  3.300173e+01  1.019723e+04  8.908532e+02  1.242641e+00\n",
      "std      9.422988e+00  1.622697e+01  6.324297e+03  1.729800e+03  2.618834e+00\n",
      "min      0.000000e+00  0.000000e+00  0.000000e+00 -1.000000e+00 -2.200000e+01\n",
      "25%      7.000000e+00  2.200000e+01  4.476000e+03  2.490000e+02  1.000000e+00\n",
      "50%      1.400000e+01  3.100000e+01  9.343000e+03  3.990000e+02  1.000000e+00\n",
      "75%      2.300000e+01  4.700000e+01  1.568400e+04  9.990000e+02  1.000000e+00\n",
      "max      3.300000e+01  5.900000e+01  2.216900e+04  3.079800e+05  2.169000e+03\n",
      "----------Columns--------------\n",
      "Index(['date', 'date_block_num', 'shop_id', 'item_id', 'item_price',\n",
      "       'item_cnt_day'],\n",
      "      dtype='object')\n",
      "----------Data Types-----------\n",
      "date               object\n",
      "date_block_num      int64\n",
      "shop_id             int64\n",
      "item_id             int64\n",
      "item_price        float64\n",
      "item_cnt_day      float64\n",
      "dtype: object\n",
      "-------Missing Values----------\n",
      "date              0\n",
      "date_block_num    0\n",
      "shop_id           0\n",
      "item_id           0\n",
      "item_price        0\n",
      "item_cnt_day      0\n",
      "dtype: int64\n",
      "-------NULL values-------------\n",
      "date              0\n",
      "date_block_num    0\n",
      "shop_id           0\n",
      "item_id           0\n",
      "item_price        0\n",
      "item_cnt_day      0\n",
      "dtype: int64\n",
      "-----Shape Of Data-------------\n",
      "(2935849, 6)\n"
     ]
    }
   ],
   "source": [
    "print(\"=============================Sales Data=============================\")\n",
    "basic_eda(sales_train)"
   ]
  },
  {
   "cell_type": "code",
   "execution_count": 5,
   "id": "46a86d8e",
   "metadata": {
    "execution": {
     "iopub.execute_input": "2022-05-04T09:32:32.488683Z",
     "iopub.status.busy": "2022-05-04T09:32:32.487934Z",
     "iopub.status.idle": "2022-05-04T09:32:32.526159Z",
     "shell.execute_reply": "2022-05-04T09:32:32.525398Z",
     "shell.execute_reply.started": "2022-05-04T09:28:58.912107Z"
    },
    "papermill": {
     "duration": 0.093518,
     "end_time": "2022-05-04T09:32:32.526357",
     "exception": false,
     "start_time": "2022-05-04T09:32:32.432839",
     "status": "completed"
    },
    "tags": []
   },
   "outputs": [
    {
     "name": "stdout",
     "output_type": "stream",
     "text": [
      "=============================Test data=============================\n",
      "----------TOP 5 RECORDS--------\n",
      "   ID  shop_id  item_id\n",
      "0   0        5     5037\n",
      "1   1        5     5320\n",
      "2   2        5     5233\n",
      "3   3        5     5232\n",
      "4   4        5     5268\n",
      "----------INFO-----------------\n",
      "<class 'pandas.core.frame.DataFrame'>\n",
      "RangeIndex: 214200 entries, 0 to 214199\n",
      "Data columns (total 3 columns):\n",
      " #   Column   Non-Null Count   Dtype\n",
      "---  ------   --------------   -----\n",
      " 0   ID       214200 non-null  int64\n",
      " 1   shop_id  214200 non-null  int64\n",
      " 2   item_id  214200 non-null  int64\n",
      "dtypes: int64(3)\n",
      "memory usage: 4.9 MB\n",
      "None\n",
      "----------Describe-------------\n",
      "                  ID        shop_id        item_id\n",
      "count  214200.000000  214200.000000  214200.000000\n",
      "mean   107099.500000      31.642857   11019.398627\n",
      "std     61834.358168      17.561933    6252.644590\n",
      "min         0.000000       2.000000      30.000000\n",
      "25%     53549.750000      16.000000    5381.500000\n",
      "50%    107099.500000      34.500000   11203.000000\n",
      "75%    160649.250000      47.000000   16071.500000\n",
      "max    214199.000000      59.000000   22167.000000\n",
      "----------Columns--------------\n",
      "Index(['ID', 'shop_id', 'item_id'], dtype='object')\n",
      "----------Data Types-----------\n",
      "ID         int64\n",
      "shop_id    int64\n",
      "item_id    int64\n",
      "dtype: object\n",
      "-------Missing Values----------\n",
      "ID         0\n",
      "shop_id    0\n",
      "item_id    0\n",
      "dtype: int64\n",
      "-------NULL values-------------\n",
      "ID         0\n",
      "shop_id    0\n",
      "item_id    0\n",
      "dtype: int64\n",
      "-----Shape Of Data-------------\n",
      "(214200, 3)\n"
     ]
    }
   ],
   "source": [
    "print(\"=============================Test data=============================\")\n",
    "basic_eda(sales_test)"
   ]
  },
  {
   "cell_type": "code",
   "execution_count": 6,
   "id": "0d35e530",
   "metadata": {
    "execution": {
     "iopub.execute_input": "2022-05-04T09:32:32.648962Z",
     "iopub.status.busy": "2022-05-04T09:32:32.648293Z",
     "iopub.status.idle": "2022-05-04T09:32:32.654776Z",
     "shell.execute_reply": "2022-05-04T09:32:32.654211Z",
     "shell.execute_reply.started": "2022-05-04T09:29:09.276975Z"
    },
    "papermill": {
     "duration": 0.078482,
     "end_time": "2022-05-04T09:32:32.654936",
     "exception": false,
     "start_time": "2022-05-04T09:32:32.576454",
     "status": "completed"
    },
    "tags": []
   },
   "outputs": [
    {
     "name": "stdout",
     "output_type": "stream",
     "text": [
      "=============================Item Categories=============================\n",
      "----------TOP 5 RECORDS--------\n",
      "        item_category_name  item_category_id\n",
      "0  PC - Гарнитуры/Наушники                 0\n",
      "1         Аксессуары - PS2                 1\n",
      "2         Аксессуары - PS3                 2\n",
      "3         Аксессуары - PS4                 3\n",
      "4         Аксессуары - PSP                 4\n",
      "----------INFO-----------------\n",
      "<class 'pandas.core.frame.DataFrame'>\n",
      "RangeIndex: 84 entries, 0 to 83\n",
      "Data columns (total 2 columns):\n",
      " #   Column              Non-Null Count  Dtype \n",
      "---  ------              --------------  ----- \n",
      " 0   item_category_name  84 non-null     object\n",
      " 1   item_category_id    84 non-null     int64 \n",
      "dtypes: int64(1), object(1)\n",
      "memory usage: 1.4+ KB\n",
      "None\n",
      "----------Describe-------------\n",
      "       item_category_id\n",
      "count         84.000000\n",
      "mean          41.500000\n",
      "std           24.392622\n",
      "min            0.000000\n",
      "25%           20.750000\n",
      "50%           41.500000\n",
      "75%           62.250000\n",
      "max           83.000000\n",
      "----------Columns--------------\n",
      "Index(['item_category_name', 'item_category_id'], dtype='object')\n",
      "----------Data Types-----------\n",
      "item_category_name    object\n",
      "item_category_id       int64\n",
      "dtype: object\n",
      "-------Missing Values----------\n",
      "item_category_name    0\n",
      "item_category_id      0\n",
      "dtype: int64\n",
      "-------NULL values-------------\n",
      "item_category_name    0\n",
      "item_category_id      0\n",
      "dtype: int64\n",
      "-----Shape Of Data-------------\n",
      "(84, 2)\n"
     ]
    }
   ],
   "source": [
    "print(\"=============================Item Categories=============================\")\n",
    "basic_eda(item_cat)"
   ]
  },
  {
   "cell_type": "code",
   "execution_count": 7,
   "id": "b4de96b5",
   "metadata": {
    "execution": {
     "iopub.execute_input": "2022-05-04T09:32:32.778975Z",
     "iopub.status.busy": "2022-05-04T09:32:32.777769Z",
     "iopub.status.idle": "2022-05-04T09:32:32.795339Z",
     "shell.execute_reply": "2022-05-04T09:32:32.794705Z",
     "shell.execute_reply.started": "2022-05-04T09:29:21.473546Z"
    },
    "papermill": {
     "duration": 0.089844,
     "end_time": "2022-05-04T09:32:32.795487",
     "exception": false,
     "start_time": "2022-05-04T09:32:32.705643",
     "status": "completed"
    },
    "tags": []
   },
   "outputs": [
    {
     "name": "stdout",
     "output_type": "stream",
     "text": [
      "=============================Items=============================\n",
      "----------TOP 5 RECORDS--------\n",
      "                                           item_name  item_id  \\\n",
      "0          ! ВО ВЛАСТИ НАВАЖДЕНИЯ (ПЛАСТ.)         D        0   \n",
      "1  !ABBYY FineReader 12 Professional Edition Full...        1   \n",
      "2      ***В ЛУЧАХ СЛАВЫ   (UNV)                    D        2   \n",
      "3    ***ГОЛУБАЯ ВОЛНА  (Univ)                      D        3   \n",
      "4        ***КОРОБКА (СТЕКЛО)                       D        4   \n",
      "\n",
      "   item_category_id  \n",
      "0                40  \n",
      "1                76  \n",
      "2                40  \n",
      "3                40  \n",
      "4                40  \n",
      "----------INFO-----------------\n",
      "<class 'pandas.core.frame.DataFrame'>\n",
      "RangeIndex: 22170 entries, 0 to 22169\n",
      "Data columns (total 3 columns):\n",
      " #   Column            Non-Null Count  Dtype \n",
      "---  ------            --------------  ----- \n",
      " 0   item_name         22170 non-null  object\n",
      " 1   item_id           22170 non-null  int64 \n",
      " 2   item_category_id  22170 non-null  int64 \n",
      "dtypes: int64(2), object(1)\n",
      "memory usage: 519.7+ KB\n",
      "None\n",
      "----------Describe-------------\n",
      "           item_id  item_category_id\n",
      "count  22170.00000      22170.000000\n",
      "mean   11084.50000         46.290753\n",
      "std     6400.07207         15.941486\n",
      "min        0.00000          0.000000\n",
      "25%     5542.25000         37.000000\n",
      "50%    11084.50000         40.000000\n",
      "75%    16626.75000         58.000000\n",
      "max    22169.00000         83.000000\n",
      "----------Columns--------------\n",
      "Index(['item_name', 'item_id', 'item_category_id'], dtype='object')\n",
      "----------Data Types-----------\n",
      "item_name           object\n",
      "item_id              int64\n",
      "item_category_id     int64\n",
      "dtype: object\n",
      "-------Missing Values----------\n",
      "item_name           0\n",
      "item_id             0\n",
      "item_category_id    0\n",
      "dtype: int64\n",
      "-------NULL values-------------\n",
      "item_name           0\n",
      "item_id             0\n",
      "item_category_id    0\n",
      "dtype: int64\n",
      "-----Shape Of Data-------------\n",
      "(22170, 3)\n"
     ]
    }
   ],
   "source": [
    "print(\"=============================Items=============================\")\n",
    "basic_eda(item)"
   ]
  },
  {
   "cell_type": "code",
   "execution_count": 8,
   "id": "111498c3",
   "metadata": {
    "execution": {
     "iopub.execute_input": "2022-05-04T09:32:32.905788Z",
     "iopub.status.busy": "2022-05-04T09:32:32.905145Z",
     "iopub.status.idle": "2022-05-04T09:32:32.924954Z",
     "shell.execute_reply": "2022-05-04T09:32:32.925580Z",
     "shell.execute_reply.started": "2022-05-04T09:29:29.388479Z"
    },
    "papermill": {
     "duration": 0.076865,
     "end_time": "2022-05-04T09:32:32.925750",
     "exception": false,
     "start_time": "2022-05-04T09:32:32.848885",
     "status": "completed"
    },
    "tags": []
   },
   "outputs": [
    {
     "name": "stdout",
     "output_type": "stream",
     "text": [
      "=============================Shops=============================\n",
      "----------TOP 5 RECORDS--------\n",
      "                        shop_name  shop_id\n",
      "0   !Якутск Орджоникидзе, 56 фран        0\n",
      "1   !Якутск ТЦ \"Центральный\" фран        1\n",
      "2                Адыгея ТЦ \"Мега\"        2\n",
      "3  Балашиха ТРК \"Октябрь-Киномир\"        3\n",
      "4        Волжский ТЦ \"Волга Молл\"        4\n",
      "----------INFO-----------------\n",
      "<class 'pandas.core.frame.DataFrame'>\n",
      "RangeIndex: 60 entries, 0 to 59\n",
      "Data columns (total 2 columns):\n",
      " #   Column     Non-Null Count  Dtype \n",
      "---  ------     --------------  ----- \n",
      " 0   shop_name  60 non-null     object\n",
      " 1   shop_id    60 non-null     int64 \n",
      "dtypes: int64(1), object(1)\n",
      "memory usage: 1.1+ KB\n",
      "None\n",
      "----------Describe-------------\n",
      "         shop_id\n",
      "count  60.000000\n",
      "mean   29.500000\n",
      "std    17.464249\n",
      "min     0.000000\n",
      "25%    14.750000\n",
      "50%    29.500000\n",
      "75%    44.250000\n",
      "max    59.000000\n",
      "----------Columns--------------\n",
      "Index(['shop_name', 'shop_id'], dtype='object')\n",
      "----------Data Types-----------\n",
      "shop_name    object\n",
      "shop_id       int64\n",
      "dtype: object\n",
      "-------Missing Values----------\n",
      "shop_name    0\n",
      "shop_id      0\n",
      "dtype: int64\n",
      "-------NULL values-------------\n",
      "shop_name    0\n",
      "shop_id      0\n",
      "dtype: int64\n",
      "-----Shape Of Data-------------\n",
      "(60, 2)\n"
     ]
    }
   ],
   "source": [
    "print(\"=============================Shops=============================\")\n",
    "basic_eda(shops)"
   ]
  },
  {
   "cell_type": "markdown",
   "id": "6bd6ddbe",
   "metadata": {
    "papermill": {
     "duration": 0.050382,
     "end_time": "2022-05-04T09:32:33.027151",
     "exception": false,
     "start_time": "2022-05-04T09:32:32.976769",
     "status": "completed"
    },
    "tags": []
   },
   "source": [
    "# EDA"
   ]
  },
  {
   "cell_type": "code",
   "execution_count": 9,
   "id": "2376f5b1",
   "metadata": {
    "execution": {
     "iopub.execute_input": "2022-05-04T09:32:33.133941Z",
     "iopub.status.busy": "2022-05-04T09:32:33.133245Z",
     "iopub.status.idle": "2022-05-04T09:32:34.155197Z",
     "shell.execute_reply": "2022-05-04T09:32:34.154552Z",
     "shell.execute_reply.started": "2022-05-04T08:47:43.593319Z"
    },
    "papermill": {
     "duration": 1.07588,
     "end_time": "2022-05-04T09:32:34.155347",
     "exception": false,
     "start_time": "2022-05-04T09:32:33.079467",
     "status": "completed"
    },
    "tags": []
   },
   "outputs": [
    {
     "data": {
      "image/png": "[encoded data removed]",
      "text/plain": [
       "<Figure size 432x432 with 2 Axes>"
      ]
     },
     "metadata": {
      "needs_background": "light"
     },
     "output_type": "display_data"
    }
   ],
   "source": [
    "corr = sales_train.corr()\n",
    "top_corr_features = corr.index[abs(corr[\"item_cnt_day\"])>0]\n",
    "\n",
    "plt.figure(figsize=(6,6))\n",
    "g=sns.heatmap(sales_train[top_corr_features].corr(),annot=True,cmap=\"YlGnBu\")"
   ]
  },
  {
   "cell_type": "code",
   "execution_count": 10,
   "id": "25b6daf4",
   "metadata": {
    "execution": {
     "iopub.execute_input": "2022-05-04T09:32:34.269892Z",
     "iopub.status.busy": "2022-05-04T09:32:34.267141Z",
     "iopub.status.idle": "2022-05-04T09:32:38.385561Z",
     "shell.execute_reply": "2022-05-04T09:32:38.386039Z",
     "shell.execute_reply.started": "2022-05-04T08:47:44.659684Z"
    },
    "papermill": {
     "duration": 4.174951,
     "end_time": "2022-05-04T09:32:38.386220",
     "exception": false,
     "start_time": "2022-05-04T09:32:34.211269",
     "status": "completed"
    },
    "tags": []
   },
   "outputs": [
    {
     "data": {
      "text/plain": [
       "<AxesSubplot:xlabel='shop_id', ylabel='item_cnt_day'>"
      ]
     },
     "execution_count": 10,
     "metadata": {},
     "output_type": "execute_result"
    },
    {
     "data": {
      "image/png": "[encoded data removed]",
      "text/plain": [
       "<Figure size 1080x432 with 1 Axes>"
      ]
     },
     "metadata": {},
     "output_type": "display_data"
    }
   ],
   "source": [
    "sns.set(rc={'figure.figsize':(15,6)})\n",
    "sns.boxplot(x='shop_id', y='item_cnt_day', data=sales_train)"
   ]
  },
  {
   "cell_type": "code",
   "execution_count": 11,
   "id": "6c19ec9b",
   "metadata": {
    "execution": {
     "iopub.execute_input": "2022-05-04T09:32:38.501229Z",
     "iopub.status.busy": "2022-05-04T09:32:38.500119Z",
     "iopub.status.idle": "2022-05-04T09:32:40.820904Z",
     "shell.execute_reply": "2022-05-04T09:32:40.820339Z",
     "shell.execute_reply.started": "2022-05-04T08:47:48.494904Z"
    },
    "papermill": {
     "duration": 2.380901,
     "end_time": "2022-05-04T09:32:40.821075",
     "exception": false,
     "start_time": "2022-05-04T09:32:38.440174",
     "status": "completed"
    },
    "tags": []
   },
   "outputs": [
    {
     "data": {
      "text/plain": [
       "<AxesSubplot:xlabel='date_block_num', ylabel='item_cnt_day'>"
      ]
     },
     "execution_count": 11,
     "metadata": {},
     "output_type": "execute_result"
    },
    {
     "data": {
      "image/png": "[encoded data removed]",
      "text/plain": [
       "<Figure size 1080x432 with 1 Axes>"
      ]
     },
     "metadata": {},
     "output_type": "display_data"
    }
   ],
   "source": [
    "sns.set(rc={'figure.figsize':(15,6)})\n",
    "sns.boxplot(x='date_block_num', y='item_cnt_day', data=sales_train)"
   ]
  },
  {
   "cell_type": "code",
   "execution_count": 12,
   "id": "12db1aaf",
   "metadata": {
    "execution": {
     "iopub.execute_input": "2022-05-04T09:32:40.935407Z",
     "iopub.status.busy": "2022-05-04T09:32:40.934378Z",
     "iopub.status.idle": "2022-05-04T09:32:46.203171Z",
     "shell.execute_reply": "2022-05-04T09:32:46.202477Z",
     "shell.execute_reply.started": "2022-05-04T08:47:50.761783Z"
    },
    "papermill": {
     "duration": 5.327268,
     "end_time": "2022-05-04T09:32:46.203325",
     "exception": false,
     "start_time": "2022-05-04T09:32:40.876057",
     "status": "completed"
    },
    "tags": []
   },
   "outputs": [
    {
     "data": {
      "image/png": "[encoded data removed]",
      "text/plain": [
       "<Figure size 1080x432 with 1 Axes>"
      ]
     },
     "metadata": {},
     "output_type": "display_data"
    }
   ],
   "source": [
    "plt.scatter(sales_train['item_price'], sales_train['item_cnt_day'], color = \"red\")\n",
    "plt.show()"
   ]
  },
  {
   "cell_type": "code",
   "execution_count": 13,
   "id": "6b8e0205",
   "metadata": {
    "execution": {
     "iopub.execute_input": "2022-05-04T09:32:46.322670Z",
     "iopub.status.busy": "2022-05-04T09:32:46.322013Z",
     "iopub.status.idle": "2022-05-04T09:32:46.860155Z",
     "shell.execute_reply": "2022-05-04T09:32:46.860776Z",
     "shell.execute_reply.started": "2022-05-04T08:47:56.010273Z"
    },
    "papermill": {
     "duration": 0.599549,
     "end_time": "2022-05-04T09:32:46.860972",
     "exception": false,
     "start_time": "2022-05-04T09:32:46.261423",
     "status": "completed"
    },
    "tags": []
   },
   "outputs": [
    {
     "data": {
      "text/plain": [
       "<matplotlib.lines.Line2D at 0x7f6b544c38d0>"
      ]
     },
     "execution_count": 13,
     "metadata": {},
     "output_type": "execute_result"
    },
    {
     "data": {
      "image/png": "[encoded data removed]",
      "text/plain": [
       "<Figure size 1080x432 with 1 Axes>"
      ]
     },
     "metadata": {},
     "output_type": "display_data"
    }
   ],
   "source": [
    "df = sales_train.groupby(['date_block_num'],as_index=False).sum()\n",
    "df.head()\n",
    "sns.set(rc={'figure.figsize':(15,6)})\n",
    "sns.lineplot(x='date_block_num', y='item_cnt_day', data=df)\n",
    "plt.axvline(x=11, ymin=0,ymax=1, color ='r')\n",
    "plt.axvline(x=23, ymin=0,ymax=1, color ='r')"
   ]
  },
  {
   "cell_type": "code",
   "execution_count": 14,
   "id": "e84480e8",
   "metadata": {
    "execution": {
     "iopub.execute_input": "2022-05-04T09:32:46.980896Z",
     "iopub.status.busy": "2022-05-04T09:32:46.980230Z",
     "iopub.status.idle": "2022-05-04T09:32:49.136183Z",
     "shell.execute_reply": "2022-05-04T09:32:49.136688Z",
     "shell.execute_reply.started": "2022-05-04T08:47:56.534976Z"
    },
    "papermill": {
     "duration": 2.216986,
     "end_time": "2022-05-04T09:32:49.136877",
     "exception": false,
     "start_time": "2022-05-04T09:32:46.919891",
     "status": "completed"
    },
    "tags": []
   },
   "outputs": [
    {
     "data": {
      "text/plain": [
       "<AxesSubplot:xlabel='shop_id', ylabel='item_cnt_day'>"
      ]
     },
     "execution_count": 14,
     "metadata": {},
     "output_type": "execute_result"
    },
    {
     "data": {
      "image/png": "[encoded data removed]",
      "text/plain": [
       "<Figure size 1080x432 with 1 Axes>"
      ]
     },
     "metadata": {},
     "output_type": "display_data"
    }
   ],
   "source": [
    "df_s = sales_train.groupby(['shop_id'],as_index=False).sum().sort_values(\"item_cnt_day\", ascending=False)\n",
    "sns.set(rc={'figure.figsize':(15,6)})\n",
    "sns.barplot(x='shop_id', y='item_cnt_day', data=df_s)"
   ]
  },
  {
   "cell_type": "code",
   "execution_count": 15,
   "id": "db79d5e0",
   "metadata": {
    "execution": {
     "iopub.execute_input": "2022-05-04T09:32:49.261511Z",
     "iopub.status.busy": "2022-05-04T09:32:49.260711Z",
     "iopub.status.idle": "2022-05-04T09:32:50.477560Z",
     "shell.execute_reply": "2022-05-04T09:32:50.478020Z",
     "shell.execute_reply.started": "2022-05-04T08:47:58.581685Z"
    },
    "papermill": {
     "duration": 1.282277,
     "end_time": "2022-05-04T09:32:50.478202",
     "exception": false,
     "start_time": "2022-05-04T09:32:49.195925",
     "status": "completed"
    },
    "tags": []
   },
   "outputs": [
    {
     "data": {
      "text/plain": [
       "<AxesSubplot:xlabel='item_price', ylabel='item_cnt_day'>"
      ]
     },
     "execution_count": 15,
     "metadata": {},
     "output_type": "execute_result"
    },
    {
     "data": {
      "image/png": "[encoded data removed]",
      "text/plain": [
       "<Figure size 1080x432 with 1 Axes>"
      ]
     },
     "metadata": {},
     "output_type": "display_data"
    }
   ],
   "source": [
    "df_p = sales_train.groupby(['item_price'],as_index=False).sum()\n",
    "sns.set(rc={'figure.figsize':(15,6)})\n",
    "sns.lineplot(x='item_price', y='item_cnt_day', data=df_p)"
   ]
  },
  {
   "cell_type": "markdown",
   "id": "fec47154",
   "metadata": {
    "papermill": {
     "duration": 0.059482,
     "end_time": "2022-05-04T09:32:50.597322",
     "exception": false,
     "start_time": "2022-05-04T09:32:50.537840",
     "status": "completed"
    },
    "tags": []
   },
   "source": [
    "# Feature Engineering\n",
    "\n",
    "Lets start removing outliers first."
   ]
  },
  {
   "cell_type": "code",
   "execution_count": 16,
   "id": "5ef18532",
   "metadata": {
    "execution": {
     "iopub.execute_input": "2022-05-04T09:32:50.719880Z",
     "iopub.status.busy": "2022-05-04T09:32:50.719220Z",
     "iopub.status.idle": "2022-05-04T09:32:50.847410Z",
     "shell.execute_reply": "2022-05-04T09:32:50.846773Z",
     "shell.execute_reply.started": "2022-05-04T08:47:59.613208Z"
    },
    "papermill": {
     "duration": 0.190474,
     "end_time": "2022-05-04T09:32:50.847568",
     "exception": false,
     "start_time": "2022-05-04T09:32:50.657094",
     "status": "completed"
    },
    "tags": []
   },
   "outputs": [],
   "source": [
    "sales_train = sales_train[sales_train['item_price'] < 50000]"
   ]
  },
  {
   "cell_type": "code",
   "execution_count": 17,
   "id": "11cc05ae",
   "metadata": {
    "execution": {
     "iopub.execute_input": "2022-05-04T09:32:50.973999Z",
     "iopub.status.busy": "2022-05-04T09:32:50.972975Z",
     "iopub.status.idle": "2022-05-04T09:32:51.089271Z",
     "shell.execute_reply": "2022-05-04T09:32:51.088622Z",
     "shell.execute_reply.started": "2022-05-04T08:47:59.718525Z"
    },
    "papermill": {
     "duration": 0.181654,
     "end_time": "2022-05-04T09:32:51.089416",
     "exception": false,
     "start_time": "2022-05-04T09:32:50.907762",
     "status": "completed"
    },
    "tags": []
   },
   "outputs": [],
   "source": [
    "sales_train = sales_train[sales_train['item_cnt_day'] < 1000]"
   ]
  },
  {
   "cell_type": "code",
   "execution_count": 18,
   "id": "f0c80bdf",
   "metadata": {
    "execution": {
     "iopub.execute_input": "2022-05-04T09:32:51.227109Z",
     "iopub.status.busy": "2022-05-04T09:32:51.226385Z",
     "iopub.status.idle": "2022-05-04T09:32:51.242530Z",
     "shell.execute_reply": "2022-05-04T09:32:51.243462Z",
     "shell.execute_reply.started": "2022-05-04T08:47:59.833341Z"
    },
    "papermill": {
     "duration": 0.090328,
     "end_time": "2022-05-04T09:32:51.243790",
     "exception": false,
     "start_time": "2022-05-04T09:32:51.153462",
     "status": "completed"
    },
    "tags": []
   },
   "outputs": [
    {
     "name": "stdout",
     "output_type": "stream",
     "text": [
      "0\n",
      "0\n",
      "0\n"
     ]
    }
   ],
   "source": [
    "print(sum(item.duplicated(['item_name'])))\n",
    "print(sum(item_cat.duplicated(['item_category_name'])))\n",
    "print(sum(shops.duplicated(['shop_name'])))"
   ]
  },
  {
   "cell_type": "code",
   "execution_count": 19,
   "id": "a920dbd8",
   "metadata": {
    "execution": {
     "iopub.execute_input": "2022-05-04T09:32:51.368346Z",
     "iopub.status.busy": "2022-05-04T09:32:51.367325Z",
     "iopub.status.idle": "2022-05-04T09:32:53.402425Z",
     "shell.execute_reply": "2022-05-04T09:32:53.401636Z",
     "shell.execute_reply.started": "2022-05-04T08:47:59.859294Z"
    },
    "papermill": {
     "duration": 2.098178,
     "end_time": "2022-05-04T09:32:53.402575",
     "exception": false,
     "start_time": "2022-05-04T09:32:51.304397",
     "status": "completed"
    },
    "tags": []
   },
   "outputs": [],
   "source": [
    "new_shop_id = {11: 10, 0: 57, 1: 58}\n",
    "shops['shop_id'] = shops['shop_id'].apply(lambda x: new_shop_id[x] if x in new_shop_id.keys() else x)\n",
    "sales_train['shop_id'] = sales_train['shop_id'].apply(lambda x: new_shop_id[x] if x in new_shop_id.keys() else x)"
   ]
  },
  {
   "cell_type": "code",
   "execution_count": 20,
   "id": "a68131d4",
   "metadata": {
    "execution": {
     "iopub.execute_input": "2022-05-04T09:32:53.535528Z",
     "iopub.status.busy": "2022-05-04T09:32:53.534488Z",
     "iopub.status.idle": "2022-05-04T09:32:53.995192Z",
     "shell.execute_reply": "2022-05-04T09:32:53.996127Z",
     "shell.execute_reply.started": "2022-05-04T08:48:00.997113Z"
    },
    "papermill": {
     "duration": 0.531438,
     "end_time": "2022-05-04T09:32:53.996369",
     "exception": false,
     "start_time": "2022-05-04T09:32:53.464931",
     "status": "completed"
    },
    "tags": []
   },
   "outputs": [],
   "source": [
    "sales = pd.merge(sales_test, sales_train, on = ('shop_id', 'item_id'), how = 'left')"
   ]
  },
  {
   "cell_type": "code",
   "execution_count": 21,
   "id": "0a3c16f5",
   "metadata": {
    "execution": {
     "iopub.execute_input": "2022-05-04T09:32:54.134693Z",
     "iopub.status.busy": "2022-05-04T09:32:54.130860Z",
     "iopub.status.idle": "2022-05-04T09:32:54.137186Z",
     "shell.execute_reply": "2022-05-04T09:32:54.137673Z"
    },
    "papermill": {
     "duration": 0.070613,
     "end_time": "2022-05-04T09:32:54.137861",
     "exception": false,
     "start_time": "2022-05-04T09:32:54.067248",
     "status": "completed"
    },
    "tags": []
   },
   "outputs": [],
   "source": [
    "def missing_percent_of_column(train_set):\n",
    "    nan_percent = 100*(train_set.isnull().sum()/len(train_set))\n",
    "    nan_percent = nan_percent[nan_percent>0].sort_values(ascending=False).round(1)\n",
    "    DataFrame = pd.DataFrame(nan_percent)\n",
    "    # Rename the columns\n",
    "    mis_percent_table = DataFrame.rename(columns = {0 : '% of Misiing Values'}) \n",
    "    # Sort the table by percentage of missing descending\n",
    "    mis_percent = mis_percent_table\n",
    "    return mis_percent"
   ]
  },
  {
   "cell_type": "code",
   "execution_count": 22,
   "id": "c7be59bc",
   "metadata": {
    "execution": {
     "iopub.execute_input": "2022-05-04T09:32:54.264388Z",
     "iopub.status.busy": "2022-05-04T09:32:54.263651Z",
     "iopub.status.idle": "2022-05-04T09:32:54.445651Z",
     "shell.execute_reply": "2022-05-04T09:32:54.445110Z",
     "shell.execute_reply.started": "2022-05-04T08:48:01.506142Z"
    },
    "papermill": {
     "duration": 0.245642,
     "end_time": "2022-05-04T09:32:54.445794",
     "exception": false,
     "start_time": "2022-05-04T09:32:54.200152",
     "status": "completed"
    },
    "tags": []
   },
   "outputs": [
    {
     "name": "stdout",
     "output_type": "stream",
     "text": [
      "Missing sales details:\n"
     ]
    },
    {
     "data": {
      "text/html": [
       "<div>\n",
       "<style scoped>\n",
       "    .dataframe tbody tr th:only-of-type {\n",
       "        vertical-align: middle;\n",
       "    }\n",
       "\n",
       "    .dataframe tbody tr th {\n",
       "        vertical-align: top;\n",
       "    }\n",
       "\n",
       "    .dataframe thead th {\n",
       "        text-align: right;\n",
       "    }\n",
       "</style>\n",
       "<table border=\"1\" class=\"dataframe\">\n",
       "  <thead>\n",
       "    <tr style=\"text-align: right;\">\n",
       "      <th></th>\n",
       "      <th>% of Misiing Values</th>\n",
       "    </tr>\n",
       "  </thead>\n",
       "  <tbody>\n",
       "    <tr>\n",
       "      <th>date</th>\n",
       "      <td>7.7</td>\n",
       "    </tr>\n",
       "    <tr>\n",
       "      <th>date_block_num</th>\n",
       "      <td>7.7</td>\n",
       "    </tr>\n",
       "    <tr>\n",
       "      <th>item_price</th>\n",
       "      <td>7.7</td>\n",
       "    </tr>\n",
       "    <tr>\n",
       "      <th>item_cnt_day</th>\n",
       "      <td>7.7</td>\n",
       "    </tr>\n",
       "  </tbody>\n",
       "</table>\n",
       "</div>"
      ],
      "text/plain": [
       "                % of Misiing Values\n",
       "date                            7.7\n",
       "date_block_num                  7.7\n",
       "item_price                      7.7\n",
       "item_cnt_day                    7.7"
      ]
     },
     "execution_count": 22,
     "metadata": {},
     "output_type": "execute_result"
    }
   ],
   "source": [
    "print('Missing sales details:')\n",
    "miss_sales = missing_percent_of_column(sales)\n",
    "miss_sales"
   ]
  },
  {
   "cell_type": "code",
   "execution_count": 23,
   "id": "e53eb796",
   "metadata": {
    "execution": {
     "iopub.execute_input": "2022-05-04T09:32:54.576319Z",
     "iopub.status.busy": "2022-05-04T09:32:54.575602Z",
     "iopub.status.idle": "2022-05-04T09:32:54.752534Z",
     "shell.execute_reply": "2022-05-04T09:32:54.751885Z",
     "shell.execute_reply.started": "2022-05-04T08:49:09.445403Z"
    },
    "papermill": {
     "duration": 0.244536,
     "end_time": "2022-05-04T09:32:54.752674",
     "exception": false,
     "start_time": "2022-05-04T09:32:54.508138",
     "status": "completed"
    },
    "tags": []
   },
   "outputs": [
    {
     "data": {
      "text/html": [
       "<div>\n",
       "<style scoped>\n",
       "    .dataframe tbody tr th:only-of-type {\n",
       "        vertical-align: middle;\n",
       "    }\n",
       "\n",
       "    .dataframe tbody tr th {\n",
       "        vertical-align: top;\n",
       "    }\n",
       "\n",
       "    .dataframe thead th {\n",
       "        text-align: right;\n",
       "    }\n",
       "</style>\n",
       "<table border=\"1\" class=\"dataframe\">\n",
       "  <thead>\n",
       "    <tr style=\"text-align: right;\">\n",
       "      <th></th>\n",
       "      <th>ID</th>\n",
       "      <th>shop_id</th>\n",
       "      <th>item_id</th>\n",
       "      <th>date</th>\n",
       "      <th>date_block_num</th>\n",
       "      <th>item_price</th>\n",
       "      <th>item_cnt_day</th>\n",
       "    </tr>\n",
       "  </thead>\n",
       "  <tbody>\n",
       "    <tr>\n",
       "      <th>0</th>\n",
       "      <td>0</td>\n",
       "      <td>5</td>\n",
       "      <td>5037</td>\n",
       "      <td>21.09.2014</td>\n",
       "      <td>20.0</td>\n",
       "      <td>2599.0</td>\n",
       "      <td>1.0</td>\n",
       "    </tr>\n",
       "    <tr>\n",
       "      <th>1</th>\n",
       "      <td>0</td>\n",
       "      <td>5</td>\n",
       "      <td>5037</td>\n",
       "      <td>29.11.2014</td>\n",
       "      <td>22.0</td>\n",
       "      <td>2599.0</td>\n",
       "      <td>1.0</td>\n",
       "    </tr>\n",
       "    <tr>\n",
       "      <th>2</th>\n",
       "      <td>0</td>\n",
       "      <td>5</td>\n",
       "      <td>5037</td>\n",
       "      <td>28.12.2014</td>\n",
       "      <td>23.0</td>\n",
       "      <td>1999.0</td>\n",
       "      <td>1.0</td>\n",
       "    </tr>\n",
       "    <tr>\n",
       "      <th>3</th>\n",
       "      <td>0</td>\n",
       "      <td>5</td>\n",
       "      <td>5037</td>\n",
       "      <td>20.12.2014</td>\n",
       "      <td>23.0</td>\n",
       "      <td>1999.0</td>\n",
       "      <td>1.0</td>\n",
       "    </tr>\n",
       "    <tr>\n",
       "      <th>4</th>\n",
       "      <td>0</td>\n",
       "      <td>5</td>\n",
       "      <td>5037</td>\n",
       "      <td>02.01.2015</td>\n",
       "      <td>24.0</td>\n",
       "      <td>1999.0</td>\n",
       "      <td>1.0</td>\n",
       "    </tr>\n",
       "  </tbody>\n",
       "</table>\n",
       "</div>"
      ],
      "text/plain": [
       "   ID  shop_id  item_id        date  date_block_num  item_price  item_cnt_day\n",
       "0   0        5     5037  21.09.2014            20.0      2599.0           1.0\n",
       "1   0        5     5037  29.11.2014            22.0      2599.0           1.0\n",
       "2   0        5     5037  28.12.2014            23.0      1999.0           1.0\n",
       "3   0        5     5037  20.12.2014            23.0      1999.0           1.0\n",
       "4   0        5     5037  02.01.2015            24.0      1999.0           1.0"
      ]
     },
     "execution_count": 23,
     "metadata": {},
     "output_type": "execute_result"
    }
   ],
   "source": [
    "# lets fill all NaN values with 0\n",
    "sales.fillna(0,inplace = True)\n",
    "# lets check our data now \n",
    "sales.head()"
   ]
  },
  {
   "cell_type": "code",
   "execution_count": 24,
   "id": "2a899508",
   "metadata": {
    "execution": {
     "iopub.execute_input": "2022-05-04T09:32:54.881794Z",
     "iopub.status.busy": "2022-05-04T09:32:54.881137Z",
     "iopub.status.idle": "2022-05-04T09:32:54.885690Z",
     "shell.execute_reply": "2022-05-04T09:32:54.886247Z",
     "shell.execute_reply.started": "2022-05-04T08:48:01.519139Z"
    },
    "papermill": {
     "duration": 0.070101,
     "end_time": "2022-05-04T09:32:54.886430",
     "exception": false,
     "start_time": "2022-05-04T09:32:54.816329",
     "status": "completed"
    },
    "tags": []
   },
   "outputs": [
    {
     "data": {
      "text/plain": [
       "(1330516, 7)"
      ]
     },
     "execution_count": 24,
     "metadata": {},
     "output_type": "execute_result"
    }
   ],
   "source": [
    "sales.shape"
   ]
  },
  {
   "cell_type": "code",
   "execution_count": 25,
   "id": "26eea81f",
   "metadata": {
    "execution": {
     "iopub.execute_input": "2022-05-04T09:32:55.014775Z",
     "iopub.status.busy": "2022-05-04T09:32:55.014108Z",
     "iopub.status.idle": "2022-05-04T09:32:55.619846Z",
     "shell.execute_reply": "2022-05-04T09:32:55.619257Z",
     "shell.execute_reply.started": "2022-05-04T08:48:01.521967Z"
    },
    "papermill": {
     "duration": 0.670376,
     "end_time": "2022-05-04T09:32:55.619999",
     "exception": false,
     "start_time": "2022-05-04T09:32:54.949623",
     "status": "completed"
    },
    "tags": []
   },
   "outputs": [
    {
     "name": "stdout",
     "output_type": "stream",
     "text": [
      "5\n"
     ]
    }
   ],
   "source": [
    "print(sum(sales.duplicated()))"
   ]
  },
  {
   "cell_type": "markdown",
   "id": "919b761e",
   "metadata": {
    "papermill": {
     "duration": 0.062775,
     "end_time": "2022-05-04T09:32:55.747627",
     "exception": false,
     "start_time": "2022-05-04T09:32:55.684852",
     "status": "completed"
    },
    "tags": []
   },
   "source": [
    "We have duplicate records added after merging data, so we are handling duplicate record below way,\n",
    "1. Remove all duplicate records for all column level.\n",
    "1. We will take column **date, date_block_num, shop_id, item_id, item_cnt_day** as unique records, and delete duplicate records.\n",
    "1. Now lets take column **ID, date, date_block_num** as unique also, and delete duplicate records."
   ]
  },
  {
   "cell_type": "code",
   "execution_count": 26,
   "id": "e310cdda",
   "metadata": {
    "execution": {
     "iopub.execute_input": "2022-05-04T09:32:55.878010Z",
     "iopub.status.busy": "2022-05-04T09:32:55.877314Z",
     "iopub.status.idle": "2022-05-04T09:32:56.899445Z",
     "shell.execute_reply": "2022-05-04T09:32:56.898720Z",
     "shell.execute_reply.started": "2022-05-04T08:48:01.523415Z"
    },
    "papermill": {
     "duration": 1.089566,
     "end_time": "2022-05-04T09:32:56.899591",
     "exception": false,
     "start_time": "2022-05-04T09:32:55.810025",
     "status": "completed"
    },
    "tags": []
   },
   "outputs": [
    {
     "data": {
      "text/plain": [
       "(1330504, 7)"
      ]
     },
     "execution_count": 26,
     "metadata": {},
     "output_type": "execute_result"
    }
   ],
   "source": [
    "sales = sales.drop_duplicates()\n",
    "sales = sales.drop_duplicates(['date','date_block_num','shop_id','item_id','item_cnt_day'])\n",
    "sales = sales.drop_duplicates(['ID','date','date_block_num'])\n",
    "sales.shape"
   ]
  },
  {
   "cell_type": "code",
   "execution_count": 27,
   "id": "4ef7d24e",
   "metadata": {
    "execution": {
     "iopub.execute_input": "2022-05-04T09:32:57.043653Z",
     "iopub.status.busy": "2022-05-04T09:32:57.042932Z",
     "iopub.status.idle": "2022-05-04T09:32:57.257140Z",
     "shell.execute_reply": "2022-05-04T09:32:57.256594Z",
     "shell.execute_reply.started": "2022-05-04T08:48:01.528762Z"
    },
    "papermill": {
     "duration": 0.294558,
     "end_time": "2022-05-04T09:32:57.257290",
     "exception": false,
     "start_time": "2022-05-04T09:32:56.962732",
     "status": "completed"
    },
    "tags": []
   },
   "outputs": [
    {
     "data": {
      "text/html": [
       "<div>\n",
       "<style scoped>\n",
       "    .dataframe tbody tr th:only-of-type {\n",
       "        vertical-align: middle;\n",
       "    }\n",
       "\n",
       "    .dataframe tbody tr th {\n",
       "        vertical-align: top;\n",
       "    }\n",
       "\n",
       "    .dataframe thead th {\n",
       "        text-align: right;\n",
       "    }\n",
       "</style>\n",
       "<table border=\"1\" class=\"dataframe\">\n",
       "  <thead>\n",
       "    <tr style=\"text-align: right;\">\n",
       "      <th></th>\n",
       "      <th>ID</th>\n",
       "      <th>shop_id</th>\n",
       "      <th>item_id</th>\n",
       "      <th>date_block_num</th>\n",
       "      <th>item_price</th>\n",
       "      <th>item_cnt_day</th>\n",
       "    </tr>\n",
       "  </thead>\n",
       "  <tbody>\n",
       "    <tr>\n",
       "      <th>count</th>\n",
       "      <td>1.330504e+06</td>\n",
       "      <td>1.330504e+06</td>\n",
       "      <td>1.330504e+06</td>\n",
       "      <td>1.330504e+06</td>\n",
       "      <td>1.330504e+06</td>\n",
       "      <td>1.330504e+06</td>\n",
       "    </tr>\n",
       "    <tr>\n",
       "      <th>mean</th>\n",
       "      <td>9.659824e+04</td>\n",
       "      <td>3.218155e+01</td>\n",
       "      <td>9.733679e+03</td>\n",
       "      <td>1.782029e+01</td>\n",
       "      <td>9.500202e+02</td>\n",
       "      <td>1.216492e+00</td>\n",
       "    </tr>\n",
       "    <tr>\n",
       "      <th>std</th>\n",
       "      <td>5.720863e+04</td>\n",
       "      <td>1.660457e+01</td>\n",
       "      <td>6.317144e+03</td>\n",
       "      <td>1.018583e+01</td>\n",
       "      <td>1.774651e+03</td>\n",
       "      <td>2.438183e+00</td>\n",
       "    </tr>\n",
       "    <tr>\n",
       "      <th>min</th>\n",
       "      <td>0.000000e+00</td>\n",
       "      <td>2.000000e+00</td>\n",
       "      <td>3.000000e+01</td>\n",
       "      <td>0.000000e+00</td>\n",
       "      <td>0.000000e+00</td>\n",
       "      <td>-1.600000e+01</td>\n",
       "    </tr>\n",
       "    <tr>\n",
       "      <th>25%</th>\n",
       "      <td>4.800200e+04</td>\n",
       "      <td>1.900000e+01</td>\n",
       "      <td>4.190000e+03</td>\n",
       "      <td>1.000000e+01</td>\n",
       "      <td>2.490000e+02</td>\n",
       "      <td>1.000000e+00</td>\n",
       "    </tr>\n",
       "    <tr>\n",
       "      <th>50%</th>\n",
       "      <td>8.957300e+04</td>\n",
       "      <td>3.100000e+01</td>\n",
       "      <td>7.895000e+03</td>\n",
       "      <td>1.900000e+01</td>\n",
       "      <td>4.990000e+02</td>\n",
       "      <td>1.000000e+00</td>\n",
       "    </tr>\n",
       "    <tr>\n",
       "      <th>75%</th>\n",
       "      <td>1.425700e+05</td>\n",
       "      <td>4.700000e+01</td>\n",
       "      <td>1.526700e+04</td>\n",
       "      <td>2.600000e+01</td>\n",
       "      <td>1.149000e+03</td>\n",
       "      <td>1.000000e+00</td>\n",
       "    </tr>\n",
       "    <tr>\n",
       "      <th>max</th>\n",
       "      <td>2.141990e+05</td>\n",
       "      <td>5.900000e+01</td>\n",
       "      <td>2.216700e+04</td>\n",
       "      <td>3.300000e+01</td>\n",
       "      <td>4.299000e+04</td>\n",
       "      <td>6.240000e+02</td>\n",
       "    </tr>\n",
       "  </tbody>\n",
       "</table>\n",
       "</div>"
      ],
      "text/plain": [
       "                 ID       shop_id       item_id  date_block_num    item_price  \\\n",
       "count  1.330504e+06  1.330504e+06  1.330504e+06    1.330504e+06  1.330504e+06   \n",
       "mean   9.659824e+04  3.218155e+01  9.733679e+03    1.782029e+01  9.500202e+02   \n",
       "std    5.720863e+04  1.660457e+01  6.317144e+03    1.018583e+01  1.774651e+03   \n",
       "min    0.000000e+00  2.000000e+00  3.000000e+01    0.000000e+00  0.000000e+00   \n",
       "25%    4.800200e+04  1.900000e+01  4.190000e+03    1.000000e+01  2.490000e+02   \n",
       "50%    8.957300e+04  3.100000e+01  7.895000e+03    1.900000e+01  4.990000e+02   \n",
       "75%    1.425700e+05  4.700000e+01  1.526700e+04    2.600000e+01  1.149000e+03   \n",
       "max    2.141990e+05  5.900000e+01  2.216700e+04    3.300000e+01  4.299000e+04   \n",
       "\n",
       "       item_cnt_day  \n",
       "count  1.330504e+06  \n",
       "mean   1.216492e+00  \n",
       "std    2.438183e+00  \n",
       "min   -1.600000e+01  \n",
       "25%    1.000000e+00  \n",
       "50%    1.000000e+00  \n",
       "75%    1.000000e+00  \n",
       "max    6.240000e+02  "
      ]
     },
     "execution_count": 27,
     "metadata": {},
     "output_type": "execute_result"
    }
   ],
   "source": [
    "sales.describe()"
   ]
  },
  {
   "cell_type": "code",
   "execution_count": 28,
   "id": "430c3a73",
   "metadata": {
    "execution": {
     "iopub.execute_input": "2022-05-04T09:32:57.401939Z",
     "iopub.status.busy": "2022-05-04T09:32:57.400957Z",
     "iopub.status.idle": "2022-05-04T09:32:57.415644Z",
     "shell.execute_reply": "2022-05-04T09:32:57.416200Z",
     "shell.execute_reply.started": "2022-05-04T08:48:01.530292Z"
    },
    "papermill": {
     "duration": 0.089723,
     "end_time": "2022-05-04T09:32:57.416374",
     "exception": false,
     "start_time": "2022-05-04T09:32:57.326651",
     "status": "completed"
    },
    "tags": []
   },
   "outputs": [],
   "source": [
    "sales.loc[sales.item_cnt_day < 0, 'item_cnt_day'] = -1. * sales.loc[sales.item_cnt_day < 0, 'item_cnt_day']"
   ]
  },
  {
   "cell_type": "code",
   "execution_count": 29,
   "id": "9a38192d",
   "metadata": {
    "execution": {
     "iopub.execute_input": "2022-05-04T09:32:57.549059Z",
     "iopub.status.busy": "2022-05-04T09:32:57.546442Z",
     "iopub.status.idle": "2022-05-04T09:32:58.292726Z",
     "shell.execute_reply": "2022-05-04T09:32:58.293399Z",
     "shell.execute_reply.started": "2022-05-04T08:48:01.531962Z"
    },
    "papermill": {
     "duration": 0.813411,
     "end_time": "2022-05-04T09:32:58.293652",
     "exception": false,
     "start_time": "2022-05-04T09:32:57.480241",
     "status": "completed"
    },
    "tags": []
   },
   "outputs": [
    {
     "data": {
      "text/html": [
       "<div>\n",
       "<style scoped>\n",
       "    .dataframe tbody tr th:only-of-type {\n",
       "        vertical-align: middle;\n",
       "    }\n",
       "\n",
       "    .dataframe tbody tr th {\n",
       "        vertical-align: top;\n",
       "    }\n",
       "\n",
       "    .dataframe thead th {\n",
       "        text-align: right;\n",
       "    }\n",
       "</style>\n",
       "<table border=\"1\" class=\"dataframe\">\n",
       "  <thead>\n",
       "    <tr style=\"text-align: right;\">\n",
       "      <th></th>\n",
       "      <th>ID</th>\n",
       "      <th>date_block_num</th>\n",
       "      <th>item_cnt_month</th>\n",
       "    </tr>\n",
       "  </thead>\n",
       "  <tbody>\n",
       "    <tr>\n",
       "      <th>207782</th>\n",
       "      <td>57085</td>\n",
       "      <td>3.0</td>\n",
       "      <td>21.0</td>\n",
       "    </tr>\n",
       "    <tr>\n",
       "      <th>288339</th>\n",
       "      <td>77310</td>\n",
       "      <td>12.0</td>\n",
       "      <td>2.0</td>\n",
       "    </tr>\n",
       "    <tr>\n",
       "      <th>518503</th>\n",
       "      <td>144157</td>\n",
       "      <td>15.0</td>\n",
       "      <td>1.0</td>\n",
       "    </tr>\n",
       "    <tr>\n",
       "      <th>19761</th>\n",
       "      <td>6300</td>\n",
       "      <td>33.0</td>\n",
       "      <td>2.0</td>\n",
       "    </tr>\n",
       "    <tr>\n",
       "      <th>654301</th>\n",
       "      <td>193886</td>\n",
       "      <td>22.0</td>\n",
       "      <td>3.0</td>\n",
       "    </tr>\n",
       "    <tr>\n",
       "      <th>377877</th>\n",
       "      <td>103922</td>\n",
       "      <td>6.0</td>\n",
       "      <td>1.0</td>\n",
       "    </tr>\n",
       "    <tr>\n",
       "      <th>585089</th>\n",
       "      <td>169678</td>\n",
       "      <td>24.0</td>\n",
       "      <td>1.0</td>\n",
       "    </tr>\n",
       "    <tr>\n",
       "      <th>4985</th>\n",
       "      <td>1059</td>\n",
       "      <td>2.0</td>\n",
       "      <td>3.0</td>\n",
       "    </tr>\n",
       "    <tr>\n",
       "      <th>679765</th>\n",
       "      <td>202897</td>\n",
       "      <td>19.0</td>\n",
       "      <td>1.0</td>\n",
       "    </tr>\n",
       "    <tr>\n",
       "      <th>300804</th>\n",
       "      <td>81600</td>\n",
       "      <td>23.0</td>\n",
       "      <td>9.0</td>\n",
       "    </tr>\n",
       "  </tbody>\n",
       "</table>\n",
       "</div>"
      ],
      "text/plain": [
       "            ID  date_block_num  item_cnt_month\n",
       "207782   57085             3.0            21.0\n",
       "288339   77310            12.0             2.0\n",
       "518503  144157            15.0             1.0\n",
       "19761     6300            33.0             2.0\n",
       "654301  193886            22.0             3.0\n",
       "377877  103922             6.0             1.0\n",
       "585089  169678            24.0             1.0\n",
       "4985      1059             2.0             3.0\n",
       "679765  202897            19.0             1.0\n",
       "300804   81600            23.0             9.0"
      ]
     },
     "execution_count": 29,
     "metadata": {},
     "output_type": "execute_result"
    }
   ],
   "source": [
    "sales_month = sales.sort_values('date_block_num').groupby(['ID', 'date_block_num'], as_index = False).agg({'item_cnt_day': ['sum']})\n",
    "sales_month.columns = ['ID', 'date_block_num', 'item_cnt_month']\n",
    "sales_month.sample(10)"
   ]
  },
  {
   "cell_type": "code",
   "execution_count": 30,
   "id": "4e317d6b",
   "metadata": {
    "execution": {
     "iopub.execute_input": "2022-05-04T09:32:58.435552Z",
     "iopub.status.busy": "2022-05-04T09:32:58.434839Z",
     "iopub.status.idle": "2022-05-04T09:32:58.512397Z",
     "shell.execute_reply": "2022-05-04T09:32:58.511861Z",
     "shell.execute_reply.started": "2022-05-04T08:48:01.533570Z"
    },
    "papermill": {
     "duration": 0.149143,
     "end_time": "2022-05-04T09:32:58.512558",
     "exception": false,
     "start_time": "2022-05-04T09:32:58.363415",
     "status": "completed"
    },
    "tags": []
   },
   "outputs": [
    {
     "data": {
      "text/html": [
       "<div>\n",
       "<style scoped>\n",
       "    .dataframe tbody tr th:only-of-type {\n",
       "        vertical-align: middle;\n",
       "    }\n",
       "\n",
       "    .dataframe tbody tr th {\n",
       "        vertical-align: top;\n",
       "    }\n",
       "\n",
       "    .dataframe thead th {\n",
       "        text-align: right;\n",
       "    }\n",
       "</style>\n",
       "<table border=\"1\" class=\"dataframe\">\n",
       "  <thead>\n",
       "    <tr style=\"text-align: right;\">\n",
       "      <th></th>\n",
       "      <th>ID</th>\n",
       "      <th>date_block_num</th>\n",
       "      <th>item_cnt_month</th>\n",
       "    </tr>\n",
       "  </thead>\n",
       "  <tbody>\n",
       "    <tr>\n",
       "      <th>count</th>\n",
       "      <td>704477.000000</td>\n",
       "      <td>704477.000000</td>\n",
       "      <td>704477.000000</td>\n",
       "    </tr>\n",
       "    <tr>\n",
       "      <th>mean</th>\n",
       "      <td>100635.117371</td>\n",
       "      <td>17.184611</td>\n",
       "      <td>2.306102</td>\n",
       "    </tr>\n",
       "    <tr>\n",
       "      <th>std</th>\n",
       "      <td>58978.682846</td>\n",
       "      <td>11.058803</td>\n",
       "      <td>10.048267</td>\n",
       "    </tr>\n",
       "    <tr>\n",
       "      <th>min</th>\n",
       "      <td>0.000000</td>\n",
       "      <td>0.000000</td>\n",
       "      <td>0.000000</td>\n",
       "    </tr>\n",
       "    <tr>\n",
       "      <th>25%</th>\n",
       "      <td>49740.000000</td>\n",
       "      <td>7.000000</td>\n",
       "      <td>1.000000</td>\n",
       "    </tr>\n",
       "    <tr>\n",
       "      <th>50%</th>\n",
       "      <td>97967.000000</td>\n",
       "      <td>19.000000</td>\n",
       "      <td>1.000000</td>\n",
       "    </tr>\n",
       "    <tr>\n",
       "      <th>75%</th>\n",
       "      <td>146964.000000</td>\n",
       "      <td>27.000000</td>\n",
       "      <td>2.000000</td>\n",
       "    </tr>\n",
       "    <tr>\n",
       "      <th>max</th>\n",
       "      <td>214199.000000</td>\n",
       "      <td>33.000000</td>\n",
       "      <td>1305.000000</td>\n",
       "    </tr>\n",
       "  </tbody>\n",
       "</table>\n",
       "</div>"
      ],
      "text/plain": [
       "                  ID  date_block_num  item_cnt_month\n",
       "count  704477.000000   704477.000000   704477.000000\n",
       "mean   100635.117371       17.184611        2.306102\n",
       "std     58978.682846       11.058803       10.048267\n",
       "min         0.000000        0.000000        0.000000\n",
       "25%     49740.000000        7.000000        1.000000\n",
       "50%     97967.000000       19.000000        1.000000\n",
       "75%    146964.000000       27.000000        2.000000\n",
       "max    214199.000000       33.000000     1305.000000"
      ]
     },
     "execution_count": 30,
     "metadata": {},
     "output_type": "execute_result"
    }
   ],
   "source": [
    "sales_month.describe()"
   ]
  },
  {
   "cell_type": "code",
   "execution_count": 31,
   "id": "0b39a5cb",
   "metadata": {
    "execution": {
     "iopub.execute_input": "2022-05-04T09:32:58.657870Z",
     "iopub.status.busy": "2022-05-04T09:32:58.656777Z",
     "iopub.status.idle": "2022-05-04T09:32:58.662196Z",
     "shell.execute_reply": "2022-05-04T09:32:58.662706Z",
     "shell.execute_reply.started": "2022-05-04T08:48:01.535471Z"
    },
    "papermill": {
     "duration": 0.080974,
     "end_time": "2022-05-04T09:32:58.662915",
     "exception": false,
     "start_time": "2022-05-04T09:32:58.581941",
     "status": "completed"
    },
    "tags": []
   },
   "outputs": [],
   "source": [
    "def to_IDs(np_data, col_ID):\n",
    "    # np_data - sales converted to numpy array\n",
    "    # col_ID - name of ID column\n",
    "    sales_by_ID = list()\n",
    "    IDs = np.unique(np_data[:,col_ID]).astype(int)\n",
    "    for i in IDs:\n",
    "        positions = np_data[:,col_ID] == i\n",
    "        sales_ID = np_data[positions,1:]\n",
    "        sales_by_ID.append(sales_ID)\n",
    "    return sales_by_ID, IDs"
   ]
  },
  {
   "cell_type": "code",
   "execution_count": 32,
   "id": "80b585a3",
   "metadata": {
    "execution": {
     "iopub.execute_input": "2022-05-04T09:32:58.807017Z",
     "iopub.status.busy": "2022-05-04T09:32:58.805621Z",
     "iopub.status.idle": "2022-05-04T09:39:24.730388Z",
     "shell.execute_reply": "2022-05-04T09:39:24.730955Z",
     "shell.execute_reply.started": "2022-05-04T08:48:01.537074Z"
    },
    "papermill": {
     "duration": 385.999316,
     "end_time": "2022-05-04T09:39:24.731157",
     "exception": false,
     "start_time": "2022-05-04T09:32:58.731841",
     "status": "completed"
    },
    "tags": []
   },
   "outputs": [
    {
     "name": "stdout",
     "output_type": "stream",
     "text": [
      "214200\n"
     ]
    }
   ],
   "source": [
    "sales_by_id, id_list = to_IDs(sales_month.values,0)\n",
    "print(len(sales_by_id))"
   ]
  },
  {
   "cell_type": "code",
   "execution_count": 33,
   "id": "a821a92a",
   "metadata": {
    "execution": {
     "iopub.execute_input": "2022-05-04T09:39:24.867643Z",
     "iopub.status.busy": "2022-05-04T09:39:24.866868Z",
     "iopub.status.idle": "2022-05-04T09:39:24.873205Z",
     "shell.execute_reply": "2022-05-04T09:39:24.872505Z",
     "shell.execute_reply.started": "2022-05-04T08:48:01.538579Z"
    },
    "papermill": {
     "duration": 0.076799,
     "end_time": "2022-05-04T09:39:24.873351",
     "exception": false,
     "start_time": "2022-05-04T09:39:24.796552",
     "status": "completed"
    },
    "tags": []
   },
   "outputs": [],
   "source": [
    "# to decrease calculation time during a code debugging we remove IDs that don't have observtions for last months\n",
    "def remove_ID_nan_last_year(np_data):\n",
    "    N_IDs = len(np_data)\n",
    "    col_date = 0\n",
    "    clear_data = list()\n",
    "    cut_month = 33 - 2\n",
    "    for i in range(N_IDs):\n",
    "        ID_data = np_data[i]\n",
    "        if len(ID_data[ID_data[:,col_date] >= cut_month,1]) != 0:\n",
    "            clear_data.append(ID_data)\n",
    "    return clear_data"
   ]
  },
  {
   "cell_type": "code",
   "execution_count": 34,
   "id": "3bb212dc",
   "metadata": {
    "execution": {
     "iopub.execute_input": "2022-05-04T09:39:25.008234Z",
     "iopub.status.busy": "2022-05-04T09:39:25.007582Z",
     "iopub.status.idle": "2022-05-04T09:39:25.018777Z",
     "shell.execute_reply": "2022-05-04T09:39:25.018136Z",
     "shell.execute_reply.started": "2022-05-04T08:48:01.540553Z"
    },
    "papermill": {
     "duration": 0.079454,
     "end_time": "2022-05-04T09:39:25.018934",
     "exception": false,
     "start_time": "2022-05-04T09:39:24.939480",
     "status": "completed"
    },
    "tags": []
   },
   "outputs": [],
   "source": [
    "# Let's fill the missing date_block_num by NaN for paticular ID\n",
    "def missing_months(np_data, col_date, col_TS, N_months = 34):\n",
    "    # col_date - index of date_block_num column\n",
    "    # col_TS - index of item_price column and item_cnt_month column\n",
    "    # at first fill time series by NaN for all months\n",
    "    series = [np.nan for _ in range(N_months)]\n",
    "    for i in range(len(np_data)):\n",
    "        position = int(np_data[i, col_date] - 1)\n",
    "        # fill positions that present in data\n",
    "        series[position] = np_data[i, col_TS]\n",
    "    return series"
   ]
  },
  {
   "cell_type": "code",
   "execution_count": 35,
   "id": "fdec37ec",
   "metadata": {
    "execution": {
     "iopub.execute_input": "2022-05-04T09:39:25.151713Z",
     "iopub.status.busy": "2022-05-04T09:39:25.151074Z",
     "iopub.status.idle": "2022-05-04T09:39:25.157119Z",
     "shell.execute_reply": "2022-05-04T09:39:25.157721Z",
     "shell.execute_reply.started": "2022-05-04T08:48:01.542297Z"
    },
    "papermill": {
     "duration": 0.07414,
     "end_time": "2022-05-04T09:39:25.157911",
     "exception": false,
     "start_time": "2022-05-04T09:39:25.083771",
     "status": "completed"
    },
    "tags": []
   },
   "outputs": [],
   "source": [
    "# Let's fill the missing item_cnt_month and item_price for particular ID\n",
    "def to_fill_missing(np_data, N_months = 34):\n",
    "    col = ['date_block_num','item_cnt_month']\n",
    "    sales_ID = pd.DataFrame(np_data, columns = col)\n",
    "    if sales_ID.shape[0] < N_months:\n",
    "        date_month = pd.DataFrame(range(N_months),columns = ['date_block_num'])\n",
    "        sales_ID = pd.merge(date_month, sales_ID, on = ('date_block_num'), how = 'left')\n",
    "        sales_ID = sales_ID.reindex(columns = col)\n",
    "        sales_ID['item_cnt_month'] = sales_ID['item_cnt_month'].fillna(0.0)\n",
    "    return sales_ID['item_cnt_month'].to_numpy()"
   ]
  },
  {
   "cell_type": "code",
   "execution_count": 36,
   "id": "cb29055a",
   "metadata": {
    "execution": {
     "iopub.execute_input": "2022-05-04T09:39:25.295583Z",
     "iopub.status.busy": "2022-05-04T09:39:25.294903Z",
     "iopub.status.idle": "2022-05-04T09:39:25.300967Z",
     "shell.execute_reply": "2022-05-04T09:39:25.301495Z",
     "shell.execute_reply.started": "2022-05-04T08:48:01.544145Z"
    },
    "papermill": {
     "duration": 0.078603,
     "end_time": "2022-05-04T09:39:25.301659",
     "exception": false,
     "start_time": "2022-05-04T09:39:25.223056",
     "status": "completed"
    },
    "tags": []
   },
   "outputs": [],
   "source": [
    "# Plot time series for particular ID to find out missing months\n",
    "def plot_TS(np_data, n_vars = 1, N_months = 34, flag = 0):\n",
    "    # n_vars = 1 or 2 (plot item_cnt OR item_cnt and item_price)\n",
    "    plt.figure()\n",
    "    if flag == 1:\n",
    "        TSs = to_fill_missing(np_data, N_months)\n",
    "    for i in range(n_vars):\n",
    "        col_plot = i + 1 # index of column to plot\n",
    "        if flag == 1:\n",
    "            series = TSs#[:,col_plot]\n",
    "        else:\n",
    "            series = missing_months(np_data, 0, col_plot, N_months)\n",
    "        ax = plt.subplot(n_vars, 1, i+1)\n",
    "        plt.plot(series, 'o')\n",
    "        plt.plot(series)\n",
    "    plt.show()"
   ]
  },
  {
   "cell_type": "code",
   "execution_count": 37,
   "id": "cd227e6a",
   "metadata": {
    "execution": {
     "iopub.execute_input": "2022-05-04T09:39:25.434779Z",
     "iopub.status.busy": "2022-05-04T09:39:25.434181Z",
     "iopub.status.idle": "2022-05-04T09:39:26.812163Z",
     "shell.execute_reply": "2022-05-04T09:39:26.811309Z",
     "shell.execute_reply.started": "2022-05-04T08:48:01.546192Z"
    },
    "papermill": {
     "duration": 1.445257,
     "end_time": "2022-05-04T09:39:26.812312",
     "exception": false,
     "start_time": "2022-05-04T09:39:25.367055",
     "status": "completed"
    },
    "tags": []
   },
   "outputs": [
    {
     "data": {
      "image/png": "[encoded data removed]",
      "text/plain": [
       "<Figure size 1080x432 with 1 Axes>"
      ]
     },
     "metadata": {},
     "output_type": "display_data"
    },
    {
     "data": {
      "image/png": "[encoded data removed]",
      "text/plain": [
       "<Figure size 1080x432 with 1 Axes>"
      ]
     },
     "metadata": {},
     "output_type": "display_data"
    },
    {
     "data": {
      "image/png": "[encoded data removed]",
      "text/plain": [
       "<Figure size 1080x432 with 1 Axes>"
      ]
     },
     "metadata": {},
     "output_type": "display_data"
    },
    {
     "data": {
      "image/png": "[encoded data removed]",
      "text/plain": [
       "<Figure size 1080x432 with 1 Axes>"
      ]
     },
     "metadata": {},
     "output_type": "display_data"
    },
    {
     "data": {
      "image/png": "[encoded data removed]",
      "text/plain": [
       "<Figure size 1080x432 with 1 Axes>"
      ]
     },
     "metadata": {},
     "output_type": "display_data"
    }
   ],
   "source": [
    "for i in np.random.randint(0, len(sales_by_id), 5):\n",
    "    plot_TS(sales_by_id[i], flag = 1)"
   ]
  },
  {
   "cell_type": "code",
   "execution_count": 38,
   "id": "c281ba19",
   "metadata": {
    "execution": {
     "iopub.execute_input": "2022-05-04T09:39:26.959347Z",
     "iopub.status.busy": "2022-05-04T09:39:26.958664Z",
     "iopub.status.idle": "2022-05-04T09:39:26.961398Z",
     "shell.execute_reply": "2022-05-04T09:39:26.961922Z",
     "shell.execute_reply.started": "2022-05-04T08:48:01.547699Z"
    },
    "papermill": {
     "duration": 0.079056,
     "end_time": "2022-05-04T09:39:26.962116",
     "exception": false,
     "start_time": "2022-05-04T09:39:26.883060",
     "status": "completed"
    },
    "tags": []
   },
   "outputs": [],
   "source": [
    "# Let's create 2D-array and each column is counts of particular ID where missing months is filled\n",
    "def full_data(data, N_months = 34):\n",
    "    N_IDs = len(data)\n",
    "    TS = np.empty((N_months, N_IDs))\n",
    "    for i in range(N_IDs):\n",
    "        TS[:, i] = to_fill_missing(data[i], N_months)\n",
    "    return TS"
   ]
  },
  {
   "cell_type": "code",
   "execution_count": 39,
   "id": "9b73bb9c",
   "metadata": {
    "execution": {
     "iopub.execute_input": "2022-05-04T09:39:27.148284Z",
     "iopub.status.busy": "2022-05-04T09:39:27.137706Z",
     "iopub.status.idle": "2022-05-04T09:49:06.369349Z",
     "shell.execute_reply": "2022-05-04T09:49:06.369877Z",
     "shell.execute_reply.started": "2022-05-04T08:48:01.549373Z"
    },
    "papermill": {
     "duration": 579.337229,
     "end_time": "2022-05-04T09:49:06.370071",
     "exception": false,
     "start_time": "2022-05-04T09:39:27.032842",
     "status": "completed"
    },
    "tags": []
   },
   "outputs": [
    {
     "data": {
      "text/plain": [
       "(34, 214200)"
      ]
     },
     "execution_count": 39,
     "metadata": {},
     "output_type": "execute_result"
    }
   ],
   "source": [
    "TS = full_data(sales_by_id)\n",
    "TS.shape"
   ]
  },
  {
   "cell_type": "code",
   "execution_count": 40,
   "id": "d8eb63c5",
   "metadata": {
    "execution": {
     "iopub.execute_input": "2022-05-04T09:49:06.515011Z",
     "iopub.status.busy": "2022-05-04T09:49:06.514209Z",
     "iopub.status.idle": "2022-05-04T09:49:06.517366Z",
     "shell.execute_reply": "2022-05-04T09:49:06.517878Z",
     "shell.execute_reply.started": "2022-05-04T08:48:01.551692Z"
    },
    "papermill": {
     "duration": 0.078083,
     "end_time": "2022-05-04T09:49:06.518047",
     "exception": false,
     "start_time": "2022-05-04T09:49:06.439964",
     "status": "completed"
    },
    "tags": []
   },
   "outputs": [
    {
     "name": "stdout",
     "output_type": "stream",
     "text": [
      "(29, 214200) (5, 214200)\n"
     ]
    }
   ],
   "source": [
    "val_month = 29\n",
    "valid_TS = TS[val_month:,:]\n",
    "train_TS = TS[:val_month,:]\n",
    "\n",
    "print(train_TS.shape, valid_TS.shape)"
   ]
  },
  {
   "cell_type": "code",
   "execution_count": 41,
   "id": "2e6871a0",
   "metadata": {
    "execution": {
     "iopub.execute_input": "2022-05-04T09:49:06.662393Z",
     "iopub.status.busy": "2022-05-04T09:49:06.661387Z",
     "iopub.status.idle": "2022-05-04T09:49:06.739701Z",
     "shell.execute_reply": "2022-05-04T09:49:06.738550Z",
     "shell.execute_reply.started": "2022-05-04T08:48:01.553306Z"
    },
    "papermill": {
     "duration": 0.151012,
     "end_time": "2022-05-04T09:49:06.739891",
     "exception": false,
     "start_time": "2022-05-04T09:49:06.588879",
     "status": "completed"
    },
    "tags": []
   },
   "outputs": [],
   "source": [
    "scaler = preprocessing.MinMaxScaler()\n",
    "scaler.fit(TS)\n",
    "\n",
    "train_scaled = scaler.transform(train_TS)\n",
    "valid_scaled = scaler.transform(valid_TS)"
   ]
  },
  {
   "cell_type": "markdown",
   "id": "950ef2c1",
   "metadata": {
    "papermill": {
     "duration": 0.071237,
     "end_time": "2022-05-04T09:49:06.881007",
     "exception": false,
     "start_time": "2022-05-04T09:49:06.809770",
     "status": "completed"
    },
    "tags": []
   },
   "source": [
    "# Model Training"
   ]
  },
  {
   "cell_type": "code",
   "execution_count": 42,
   "id": "850eb002",
   "metadata": {
    "execution": {
     "iopub.execute_input": "2022-05-04T09:49:07.030197Z",
     "iopub.status.busy": "2022-05-04T09:49:07.029158Z",
     "iopub.status.idle": "2022-05-04T09:49:07.031518Z",
     "shell.execute_reply": "2022-05-04T09:49:07.032070Z",
     "shell.execute_reply.started": "2022-05-04T08:48:01.554935Z"
    },
    "papermill": {
     "duration": 0.080318,
     "end_time": "2022-05-04T09:49:07.032240",
     "exception": false,
     "start_time": "2022-05-04T09:49:06.951922",
     "status": "completed"
    },
    "tags": []
   },
   "outputs": [],
   "source": [
    "def to_make_features(TS, n_lag, batch_size):\n",
    "    ds = tf.data.Dataset.from_tensor_slices(TS) # each element of dataset is one value of TS \n",
    "    ds = ds.window(n_lag+1, shift = 1, drop_remainder = True) # (n_lag+1)-elements of dataset is combined to window\n",
    "    ds = ds.flat_map(lambda row: row.batch(n_lag + 1)) # to batch elements in window to tensor (one element) and to flat (now there are no windows)\n",
    "    # Let's shuffle befor we combine batches for epoch\n",
    "    ds = ds.shuffle(300)\n",
    "    # make the tuple: first element is features, second element is labels\n",
    "    # features-(1,2,3) and labels-(2,3,4). 2 goes after 1, 3 goes after 2, 4 goes after 3.\n",
    "    ds = ds.map(lambda row: (row[:-1,:], row[1:,:]))\n",
    "    # combine tuples to banch for gradient descent\n",
    "    # instead of a row we will have a matrix in every tuple\n",
    "    ds = ds.batch(batch_size).prefetch(1)\n",
    "    return ds"
   ]
  },
  {
   "cell_type": "code",
   "execution_count": 43,
   "id": "c669bbb5",
   "metadata": {
    "_kg_hide-output": true,
    "execution": {
     "iopub.execute_input": "2022-05-04T09:49:07.176210Z",
     "iopub.status.busy": "2022-05-04T09:49:07.175576Z",
     "iopub.status.idle": "2022-05-04T09:49:07.416605Z",
     "shell.execute_reply": "2022-05-04T09:49:07.415679Z",
     "shell.execute_reply.started": "2022-05-04T08:48:01.556259Z"
    },
    "papermill": {
     "duration": 0.314458,
     "end_time": "2022-05-04T09:49:07.416818",
     "exception": false,
     "start_time": "2022-05-04T09:49:07.102360",
     "status": "completed"
    },
    "tags": []
   },
   "outputs": [
    {
     "name": "stderr",
     "output_type": "stream",
     "text": [
      "\n",
      "User settings:\n",
      "\n",
      "   KMP_AFFINITY=granularity=fine,verbose,compact,1,0\n",
      "   KMP_BLOCKTIME=0\n",
      "   KMP_DUPLICATE_LIB_OK=True\n",
      "   KMP_INIT_AT_FORK=FALSE\n",
      "   KMP_SETTINGS=1\n",
      "   KMP_WARNINGS=0\n",
      "\n",
      "Effective settings:\n",
      "\n",
      "   KMP_ABORT_DELAY=0\n",
      "   KMP_ADAPTIVE_LOCK_PROPS='1,1024'\n",
      "   KMP_ALIGN_ALLOC=64\n",
      "   KMP_ALL_THREADPRIVATE=128\n",
      "   KMP_ATOMIC_MODE=2\n",
      "   KMP_BLOCKTIME=0\n",
      "   KMP_CPUINFO_FILE: value is not defined\n",
      "   KMP_DETERMINISTIC_REDUCTION=false\n",
      "   KMP_DEVICE_THREAD_LIMIT=2147483647\n",
      "   KMP_DISP_NUM_BUFFERS=7\n",
      "   KMP_DUPLICATE_LIB_OK=true\n",
      "   KMP_ENABLE_TASK_THROTTLING=true\n",
      "   KMP_FORCE_REDUCTION: value is not defined\n",
      "   KMP_FOREIGN_THREADS_THREADPRIVATE=true\n",
      "   KMP_FORKJOIN_BARRIER='2,2'\n",
      "   KMP_FORKJOIN_BARRIER_PATTERN='hyper,hyper'\n",
      "   KMP_GTID_MODE=3\n",
      "   KMP_HANDLE_SIGNALS=false\n",
      "   KMP_HOT_TEAMS_MAX_LEVEL=1\n",
      "   KMP_HOT_TEAMS_MODE=0\n",
      "   KMP_INIT_AT_FORK=true\n",
      "   KMP_LIBRARY=throughput\n",
      "   KMP_LOCK_KIND=queuing\n",
      "   KMP_MALLOC_POOL_INCR=1M\n",
      "   KMP_NUM_LOCKS_IN_BLOCK=1\n",
      "   KMP_PLAIN_BARRIER='2,2'\n",
      "   KMP_PLAIN_BARRIER_PATTERN='hyper,hyper'\n",
      "   KMP_REDUCTION_BARRIER='1,1'\n",
      "   KMP_REDUCTION_BARRIER_PATTERN='hyper,hyper'\n",
      "   KMP_SCHEDULE='static,balanced;guided,iterative'\n",
      "   KMP_SETTINGS=true\n",
      "   KMP_SPIN_BACKOFF_PARAMS='4096,100'\n",
      "   KMP_STACKOFFSET=64\n",
      "   KMP_STACKPAD=0\n",
      "   KMP_STACKSIZE=8M\n",
      "   KMP_STORAGE_MAP=false\n",
      "   KMP_TASKING=2\n",
      "   KMP_TASKLOOP_MIN_TASKS=0\n",
      "   KMP_TASK_STEALING_CONSTRAINT=1\n",
      "   KMP_TEAMS_THREAD_LIMIT=4\n",
      "   KMP_TOPOLOGY_METHOD=all\n",
      "   KMP_USE_YIELD=1\n",
      "   KMP_VERSION=false\n",
      "   KMP_WARNINGS=false\n",
      "   OMP_AFFINITY_FORMAT='OMP: pid %P tid %i thread %n bound to OS proc set {%A}'\n",
      "   OMP_ALLOCATOR=omp_default_mem_alloc\n",
      "   OMP_CANCELLATION=false\n",
      "   OMP_DEFAULT_DEVICE=0\n",
      "   OMP_DISPLAY_AFFINITY=false\n",
      "   OMP_DISPLAY_ENV=false\n",
      "   OMP_DYNAMIC=false\n",
      "   OMP_MAX_ACTIVE_LEVELS=1\n",
      "   OMP_MAX_TASK_PRIORITY=0\n",
      "   OMP_NESTED: deprecated; max-active-levels-var=1\n",
      "   OMP_NUM_THREADS: value is not defined\n",
      "   OMP_PLACES: value is not defined\n",
      "   OMP_PROC_BIND='intel'\n",
      "   OMP_SCHEDULE='static'\n",
      "   OMP_STACKSIZE=8M\n",
      "   OMP_TARGET_OFFLOAD=DEFAULT\n",
      "   OMP_THREAD_LIMIT=2147483647\n",
      "   OMP_WAIT_POLICY=PASSIVE\n",
      "   KMP_AFFINITY='verbose,warnings,respect,granularity=fine,compact,1,0'\n",
      "\n",
      "2022-05-04 09:49:07.198435: I tensorflow/core/common_runtime/process_util.cc:146] Creating new thread pool with default inter op setting: 2. Tune using inter_op_parallelism_threads for best performance.\n"
     ]
    }
   ],
   "source": [
    "n_lag = 6\n",
    "batch_size = 8\n",
    "features = to_make_features(train_scaled, n_lag, batch_size)\n",
    "val_features = to_make_features(valid_scaled, n_lag, batch_size)\n",
    "Conv_filters = 64\n",
    "Conv_kernel_size = 4\n",
    "LSTM_filters = 64\n",
    "n_outputs = train_scaled.shape[1]"
   ]
  },
  {
   "cell_type": "code",
   "execution_count": 44,
   "id": "9c961548",
   "metadata": {
    "execution": {
     "iopub.execute_input": "2022-05-04T09:49:07.567971Z",
     "iopub.status.busy": "2022-05-04T09:49:07.567275Z",
     "iopub.status.idle": "2022-05-04T09:49:10.787054Z",
     "shell.execute_reply": "2022-05-04T09:49:10.786130Z",
     "shell.execute_reply.started": "2022-05-04T08:48:01.558146Z"
    },
    "papermill": {
     "duration": 3.298466,
     "end_time": "2022-05-04T09:49:10.787245",
     "exception": false,
     "start_time": "2022-05-04T09:49:07.488779",
     "status": "completed"
    },
    "tags": []
   },
   "outputs": [
    {
     "name": "stdout",
     "output_type": "stream",
     "text": [
      "Model: \"sequential\"\n",
      "_________________________________________________________________\n",
      "Layer (type)                 Output Shape              Param #   \n",
      "=================================================================\n",
      "conv1d (Conv1D)              (None, None, 64)          54835264  \n",
      "_________________________________________________________________\n",
      "dropout (Dropout)            (None, None, 64)          0         \n",
      "_________________________________________________________________\n",
      "bidirectional (Bidirectional (None, None, 128)         66048     \n",
      "_________________________________________________________________\n",
      "dropout_1 (Dropout)          (None, None, 128)         0         \n",
      "_________________________________________________________________\n",
      "bidirectional_1 (Bidirection (None, None, 128)         98816     \n",
      "_________________________________________________________________\n",
      "dropout_2 (Dropout)          (None, None, 128)         0         \n",
      "_________________________________________________________________\n",
      "bidirectional_2 (Bidirection (None, None, 128)         98816     \n",
      "_________________________________________________________________\n",
      "dense (Dense)                (None, None, 214200)      27631800  \n",
      "=================================================================\n",
      "Total params: 82,730,744\n",
      "Trainable params: 82,730,744\n",
      "Non-trainable params: 0\n",
      "_________________________________________________________________\n"
     ]
    }
   ],
   "source": [
    "model = tf.keras.models.Sequential([\n",
    "  tf.keras.layers.Conv1D(filters = Conv_filters, kernel_size = Conv_kernel_size,\n",
    "                      strides=1, padding=\"causal\", activation=\"relu\", input_shape=[None, n_outputs]),\n",
    "  tf.keras.layers.Dropout(rate=0.2),\n",
    "  tf.keras.layers.Bidirectional(tf.keras.layers.LSTM(LSTM_filters, return_sequences=True)),\n",
    "  tf.keras.layers.Dropout(rate=0.2),\n",
    "  tf.keras.layers.Bidirectional(tf.keras.layers.LSTM(LSTM_filters, return_sequences=True)),\n",
    "  tf.keras.layers.Dropout(rate=0.2),\n",
    "    \n",
    "  tf.keras.layers.Bidirectional(tf.keras.layers.LSTM(LSTM_filters, return_sequences=True)),\n",
    "  tf.keras.layers.Dense(n_outputs)])\n",
    "\n",
    "lr_schedule = tf.keras.callbacks.LearningRateScheduler(lambda epoch: 1e-5 * 10**(epoch / 20))\n",
    "optimizer = tf.keras.optimizers.Adam(learning_rate = 1e-5)\n",
    "\n",
    "model.compile(loss=tf.keras.losses.Huber(), optimizer=optimizer, metrics=[\"mean_squared_error\"])\n",
    "model.summary()"
   ]
  },
  {
   "cell_type": "code",
   "execution_count": 45,
   "id": "220b597e",
   "metadata": {
    "execution": {
     "iopub.execute_input": "2022-05-04T09:49:10.936871Z",
     "iopub.status.busy": "2022-05-04T09:49:10.935795Z",
     "iopub.status.idle": "2022-05-04T09:52:51.561827Z",
     "shell.execute_reply": "2022-05-04T09:52:51.562322Z",
     "shell.execute_reply.started": "2022-05-04T08:48:01.560042Z"
    },
    "papermill": {
     "duration": 220.703111,
     "end_time": "2022-05-04T09:52:51.562502",
     "exception": false,
     "start_time": "2022-05-04T09:49:10.859391",
     "status": "completed"
    },
    "tags": []
   },
   "outputs": [
    {
     "name": "stderr",
     "output_type": "stream",
     "text": [
      "2022-05-04 09:49:11.017499: I tensorflow/compiler/mlir/mlir_graph_optimization_pass.cc:185] None of the MLIR Optimization Passes are enabled (registered 2)\n"
     ]
    },
    {
     "data": {
      "text/plain": [
       "[<matplotlib.lines.Line2D at 0x7f6abb6a50d0>]"
      ]
     },
     "execution_count": 45,
     "metadata": {},
     "output_type": "execute_result"
    },
    {
     "data": {
      "image/png": "[encoded data removed]",
      "text/plain": [
       "<Figure size 1080x432 with 1 Axes>"
      ]
     },
     "metadata": {},
     "output_type": "display_data"
    }
   ],
   "source": [
    "fitting = model.fit(features, epochs=80,verbose=0, callbacks=[lr_schedule])\n",
    "plt.semilogx(fitting.history[\"lr\"], fitting.history[\"loss\"])"
   ]
  },
  {
   "cell_type": "code",
   "execution_count": 46,
   "id": "89f21a4b",
   "metadata": {
    "execution": {
     "iopub.execute_input": "2022-05-04T09:52:51.718644Z",
     "iopub.status.busy": "2022-05-04T09:52:51.714460Z",
     "iopub.status.idle": "2022-05-04T10:04:28.148148Z",
     "shell.execute_reply": "2022-05-04T10:04:28.148681Z",
     "shell.execute_reply.started": "2022-05-04T08:48:01.561694Z"
    },
    "papermill": {
     "duration": 696.511744,
     "end_time": "2022-05-04T10:04:28.148906",
     "exception": false,
     "start_time": "2022-05-04T09:52:51.637162",
     "status": "completed"
    },
    "tags": []
   },
   "outputs": [],
   "source": [
    "optimizer = tf.keras.optimizers.Adam(learning_rate = 1e-2)\n",
    "model.compile(loss=tf.keras.losses.Huber(), optimizer=optimizer, metrics=[\"mae\"])\n",
    "fitting = model.fit(features, epochs=300, verbose = 0, validation_data = val_features)"
   ]
  },
  {
   "cell_type": "code",
   "execution_count": 47,
   "id": "77ab358b",
   "metadata": {
    "execution": {
     "iopub.execute_input": "2022-05-04T10:04:28.298993Z",
     "iopub.status.busy": "2022-05-04T10:04:28.298297Z",
     "iopub.status.idle": "2022-05-04T10:04:28.304384Z",
     "shell.execute_reply": "2022-05-04T10:04:28.303865Z",
     "shell.execute_reply.started": "2022-05-04T08:48:01.563457Z"
    },
    "papermill": {
     "duration": 0.081825,
     "end_time": "2022-05-04T10:04:28.304547",
     "exception": false,
     "start_time": "2022-05-04T10:04:28.222722",
     "status": "completed"
    },
    "tags": []
   },
   "outputs": [],
   "source": [
    "def model_forecast(model, TS, n_lag, batch_size):\n",
    "    ds = tf.data.Dataset.from_tensor_slices(TS)\n",
    "    ds = ds.window(n_lag, shift=1, drop_remainder=True)\n",
    "    ds = ds.flat_map(lambda row: row.batch(n_lag))\n",
    "    ds = ds.batch(batch_size)\n",
    "    forecast = model.predict(ds)\n",
    "    return forecast"
   ]
  },
  {
   "cell_type": "code",
   "execution_count": 48,
   "id": "11626ae3",
   "metadata": {
    "execution": {
     "iopub.execute_input": "2022-05-04T10:04:28.456093Z",
     "iopub.status.busy": "2022-05-04T10:04:28.455094Z",
     "iopub.status.idle": "2022-05-04T10:04:31.923533Z",
     "shell.execute_reply": "2022-05-04T10:04:31.922907Z",
     "shell.execute_reply.started": "2022-05-04T08:48:01.565842Z"
    },
    "papermill": {
     "duration": 3.54586,
     "end_time": "2022-05-04T10:04:31.923686",
     "exception": false,
     "start_time": "2022-05-04T10:04:28.377826",
     "status": "completed"
    },
    "tags": []
   },
   "outputs": [],
   "source": [
    "forecast = model_forecast(model, train_scaled, n_lag, batch_size)\n",
    "forecast = forecast[:,-1,:]\n",
    "forecast = scaler.inverse_transform(forecast)"
   ]
  },
  {
   "cell_type": "code",
   "execution_count": 49,
   "id": "a599fb12",
   "metadata": {
    "execution": {
     "iopub.execute_input": "2022-05-04T10:04:32.094345Z",
     "iopub.status.busy": "2022-05-04T10:04:32.093359Z",
     "iopub.status.idle": "2022-05-04T10:04:33.009167Z",
     "shell.execute_reply": "2022-05-04T10:04:33.008523Z",
     "shell.execute_reply.started": "2022-05-04T08:48:01.567380Z"
    },
    "papermill": {
     "duration": 1.012214,
     "end_time": "2022-05-04T10:04:33.009327",
     "exception": false,
     "start_time": "2022-05-04T10:04:31.997113",
     "status": "completed"
    },
    "tags": []
   },
   "outputs": [
    {
     "data": {
      "image/png": "[encoded data removed]",
      "text/plain": [
       "<Figure size 1080x432 with 4 Axes>"
      ]
     },
     "metadata": {},
     "output_type": "display_data"
    }
   ],
   "source": [
    "iplot = 0\n",
    "for i in np.random.randint(0, n_outputs, 4):\n",
    "    iplot += 1\n",
    "    plt.subplot(4,1,iplot)\n",
    "    plt.plot(range(n_lag, val_month+1), np.append(train_TS[n_lag:,i],valid_TS[0,i]), 'r')\n",
    "    plt.plot(range(n_lag, val_month+1), forecast[:,i], 'b')\n",
    "    plt.legend([\"actual\", \"predicted\"])"
   ]
  },
  {
   "cell_type": "code",
   "execution_count": 50,
   "id": "d81aeec3",
   "metadata": {
    "execution": {
     "iopub.execute_input": "2022-05-04T10:04:33.165352Z",
     "iopub.status.busy": "2022-05-04T10:04:33.164377Z",
     "iopub.status.idle": "2022-05-04T10:04:34.211236Z",
     "shell.execute_reply": "2022-05-04T10:04:34.210618Z",
     "shell.execute_reply.started": "2022-05-04T08:48:01.569191Z"
    },
    "papermill": {
     "duration": 1.125687,
     "end_time": "2022-05-04T10:04:34.211398",
     "exception": false,
     "start_time": "2022-05-04T10:04:33.085711",
     "status": "completed"
    },
    "tags": []
   },
   "outputs": [],
   "source": [
    "ds = tf.data.Dataset.from_tensor_slices(TS)\n",
    "ds = ds.window(n_lag, shift=1, drop_remainder=True)\n",
    "ds = ds.flat_map(lambda row: row.batch(n_lag))\n",
    "ds = ds.batch(batch_size)\n",
    "predict = model.predict(ds)\n",
    "last_month_predict = predict[-1,-1,:]\n",
    "last_month_forecast = scaler.inverse_transform(np.expand_dims(last_month_predict, axis = 0))"
   ]
  },
  {
   "cell_type": "code",
   "execution_count": 51,
   "id": "b869c16a",
   "metadata": {
    "execution": {
     "iopub.execute_input": "2022-05-04T10:04:34.370009Z",
     "iopub.status.busy": "2022-05-04T10:04:34.368868Z",
     "iopub.status.idle": "2022-05-04T10:04:34.446154Z",
     "shell.execute_reply": "2022-05-04T10:04:34.446633Z",
     "shell.execute_reply.started": "2022-05-04T08:48:01.574640Z"
    },
    "papermill": {
     "duration": 0.159887,
     "end_time": "2022-05-04T10:04:34.446839",
     "exception": false,
     "start_time": "2022-05-04T10:04:34.286952",
     "status": "completed"
    },
    "tags": []
   },
   "outputs": [
    {
     "data": {
      "text/html": [
       "<div>\n",
       "<style scoped>\n",
       "    .dataframe tbody tr th:only-of-type {\n",
       "        vertical-align: middle;\n",
       "    }\n",
       "\n",
       "    .dataframe tbody tr th {\n",
       "        vertical-align: top;\n",
       "    }\n",
       "\n",
       "    .dataframe thead th {\n",
       "        text-align: right;\n",
       "    }\n",
       "</style>\n",
       "<table border=\"1\" class=\"dataframe\">\n",
       "  <thead>\n",
       "    <tr style=\"text-align: right;\">\n",
       "      <th></th>\n",
       "      <th>ID</th>\n",
       "      <th>item_cnt_month</th>\n",
       "    </tr>\n",
       "  </thead>\n",
       "  <tbody>\n",
       "    <tr>\n",
       "      <th>0</th>\n",
       "      <td>0</td>\n",
       "      <td>0.045052</td>\n",
       "    </tr>\n",
       "    <tr>\n",
       "      <th>1</th>\n",
       "      <td>1</td>\n",
       "      <td>0.000393</td>\n",
       "    </tr>\n",
       "    <tr>\n",
       "      <th>2</th>\n",
       "      <td>2</td>\n",
       "      <td>0.015879</td>\n",
       "    </tr>\n",
       "    <tr>\n",
       "      <th>3</th>\n",
       "      <td>3</td>\n",
       "      <td>0.000000</td>\n",
       "    </tr>\n",
       "    <tr>\n",
       "      <th>4</th>\n",
       "      <td>4</td>\n",
       "      <td>0.000000</td>\n",
       "    </tr>\n",
       "  </tbody>\n",
       "</table>\n",
       "</div>"
      ],
      "text/plain": [
       "   ID  item_cnt_month\n",
       "0   0        0.045052\n",
       "1   1        0.000393\n",
       "2   2        0.015879\n",
       "3   3        0.000000\n",
       "4   4        0.000000"
      ]
     },
     "execution_count": 51,
     "metadata": {},
     "output_type": "execute_result"
    }
   ],
   "source": [
    "submission = pd.DataFrame({'ID': id_list, 'item_cnt_month': np.squeeze(last_month_predict) })\n",
    "submission.loc[submission.item_cnt_month < 0, 'item_cnt_month'] = 0\n",
    "submission = pd.merge(sales_test.ID, submission, on = ('ID'), how = 'left')\n",
    "submission = submission.fillna(0)\n",
    "submission.head()"
   ]
  },
  {
   "cell_type": "code",
   "execution_count": 52,
   "id": "81767983",
   "metadata": {
    "execution": {
     "iopub.execute_input": "2022-05-04T10:04:34.603727Z",
     "iopub.status.busy": "2022-05-04T10:04:34.602996Z",
     "iopub.status.idle": "2022-05-04T10:04:35.219028Z",
     "shell.execute_reply": "2022-05-04T10:04:35.218393Z",
     "shell.execute_reply.started": "2022-05-04T08:48:01.576407Z"
    },
    "papermill": {
     "duration": 0.696449,
     "end_time": "2022-05-04T10:04:35.219193",
     "exception": false,
     "start_time": "2022-05-04T10:04:34.522744",
     "status": "completed"
    },
    "tags": []
   },
   "outputs": [],
   "source": [
    "submission.to_csv('submission.csv', index=False)"
   ]
  }
 ],
 "metadata": {
  "kernelspec": {
   "display_name": "Python 3",
   "language": "python",
   "name": "python3"
  },
  "language_info": {
   "codemirror_mode": {
    "name": "ipython",
    "version": 3
   },
   "file_extension": ".py",
   "mimetype": "text/x-python",
   "name": "python",
   "nbconvert_exporter": "python",
   "pygments_lexer": "ipython3",
   "version": "3.7.10"
  },
  "papermill": {
   "default_parameters": {},
   "duration": 1945.866003,
   "end_time": "2022-05-04T10:04:38.153029",
   "environment_variables": {},
   "exception": null,
   "input_path": "__notebook__.ipynb",
   "output_path": "__notebook__.ipynb",
   "parameters": {},
   "start_time": "2022-05-04T09:32:12.287026",
   "version": "2.3.3"
  }
 },
 "nbformat": 4,
 "nbformat_minor": 5
}
